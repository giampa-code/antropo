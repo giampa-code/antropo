{
 "cells": [
  {
   "cell_type": "markdown",
   "metadata": {},
   "source": [
    "# Model selection"
   ]
  },
  {
   "cell_type": "markdown",
   "metadata": {},
   "source": [
    "## Libraries"
   ]
  },
  {
   "cell_type": "code",
   "execution_count": 1,
   "metadata": {},
   "outputs": [
    {
     "name": "stderr",
     "output_type": "stream",
     "text": [
      "/home/giampa95/anaconda3/envs/ds/lib/python3.9/site-packages/xgboost/compat.py:36: FutureWarning: pandas.Int64Index is deprecated and will be removed from pandas in a future version. Use pandas.Index with the appropriate dtype instead.\n",
      "  from pandas import MultiIndex, Int64Index\n"
     ]
    }
   ],
   "source": [
    "import pandas as pd\n",
    "import matplotlib.pyplot as plt\n",
    "import seaborn as sns\n",
    "import numpy as np\n",
    "\n",
    "\n",
    "\n",
    "from sklearn.model_selection import train_test_split\n",
    "from sklearn.metrics import accuracy_score,r2_score,mean_squared_error,mean_absolute_error\n",
    "from sklearn.preprocessing import StandardScaler\n",
    "from sklearn.model_selection import cross_val_score, GridSearchCV\n",
    "\n",
    "from xgboost import XGBRegressor"
   ]
  },
  {
   "cell_type": "markdown",
   "metadata": {},
   "source": [
    "## Load data"
   ]
  },
  {
   "cell_type": "code",
   "execution_count": 4,
   "metadata": {},
   "outputs": [],
   "source": [
    "# leer data\n",
    "data_m = pd.read_csv('../../data/processed/data_m_v1.csv')\n",
    "data_f = pd.read_csv('../../data/processed/data_f_v1.csv')\n"
   ]
  },
  {
   "cell_type": "code",
   "execution_count": 5,
   "metadata": {},
   "outputs": [
    {
     "data": {
      "text/html": [
       "<div>\n",
       "<style scoped>\n",
       "    .dataframe tbody tr th:only-of-type {\n",
       "        vertical-align: middle;\n",
       "    }\n",
       "\n",
       "    .dataframe tbody tr th {\n",
       "        vertical-align: top;\n",
       "    }\n",
       "\n",
       "    .dataframe thead th {\n",
       "        text-align: right;\n",
       "    }\n",
       "</style>\n",
       "<table border=\"1\" class=\"dataframe\">\n",
       "  <thead>\n",
       "    <tr style=\"text-align: right;\">\n",
       "      <th></th>\n",
       "      <th>edad</th>\n",
       "      <th>peso</th>\n",
       "      <th>talla</th>\n",
       "      <th>per_brazo_rel</th>\n",
       "      <th>per_brazo_ten</th>\n",
       "      <th>per_antebrazo</th>\n",
       "      <th>per_torax</th>\n",
       "      <th>per_cintura</th>\n",
       "      <th>per_cadera</th>\n",
       "      <th>per_muslo_max</th>\n",
       "      <th>per_muslo_medial</th>\n",
       "      <th>per_pantorrilla</th>\n",
       "      <th>masa_piel</th>\n",
       "      <th>masa_adiposa</th>\n",
       "      <th>masa_muscular</th>\n",
       "      <th>masa_residual</th>\n",
       "      <th>masa_osea</th>\n",
       "    </tr>\n",
       "  </thead>\n",
       "  <tbody>\n",
       "    <tr>\n",
       "      <th>0</th>\n",
       "      <td>-1.036390</td>\n",
       "      <td>-1.129647</td>\n",
       "      <td>-1.041523</td>\n",
       "      <td>-0.245085</td>\n",
       "      <td>-0.364953</td>\n",
       "      <td>-0.791100</td>\n",
       "      <td>-0.661568</td>\n",
       "      <td>-1.015423</td>\n",
       "      <td>-1.182268</td>\n",
       "      <td>-1.117874</td>\n",
       "      <td>-1.535150</td>\n",
       "      <td>-1.224345</td>\n",
       "      <td>3.585589</td>\n",
       "      <td>17.189072</td>\n",
       "      <td>32.433673</td>\n",
       "      <td>7.148282</td>\n",
       "      <td>7.474786</td>\n",
       "    </tr>\n",
       "    <tr>\n",
       "      <th>1</th>\n",
       "      <td>-0.425749</td>\n",
       "      <td>-1.106688</td>\n",
       "      <td>0.645564</td>\n",
       "      <td>-1.516202</td>\n",
       "      <td>-2.004565</td>\n",
       "      <td>-1.668563</td>\n",
       "      <td>-2.015216</td>\n",
       "      <td>-1.005378</td>\n",
       "      <td>-0.498441</td>\n",
       "      <td>-1.117874</td>\n",
       "      <td>-1.422207</td>\n",
       "      <td>-0.332794</td>\n",
       "      <td>3.764521</td>\n",
       "      <td>24.290302</td>\n",
       "      <td>25.310796</td>\n",
       "      <td>6.384089</td>\n",
       "      <td>9.142289</td>\n",
       "    </tr>\n",
       "    <tr>\n",
       "      <th>2</th>\n",
       "      <td>0.033609</td>\n",
       "      <td>1.495342</td>\n",
       "      <td>-1.424952</td>\n",
       "      <td>3.133412</td>\n",
       "      <td>2.974995</td>\n",
       "      <td>2.718753</td>\n",
       "      <td>1.299323</td>\n",
       "      <td>1.355101</td>\n",
       "      <td>1.642233</td>\n",
       "      <td>2.023883</td>\n",
       "      <td>2.033875</td>\n",
       "      <td>1.681451</td>\n",
       "      <td>4.229962</td>\n",
       "      <td>39.435706</td>\n",
       "      <td>41.820398</td>\n",
       "      <td>11.560786</td>\n",
       "      <td>10.609290</td>\n",
       "    </tr>\n",
       "    <tr>\n",
       "      <th>3</th>\n",
       "      <td>-0.378883</td>\n",
       "      <td>0.576979</td>\n",
       "      <td>-0.581408</td>\n",
       "      <td>0.357024</td>\n",
       "      <td>0.788847</td>\n",
       "      <td>0.757365</td>\n",
       "      <td>0.413759</td>\n",
       "      <td>0.551533</td>\n",
       "      <td>0.675956</td>\n",
       "      <td>0.750198</td>\n",
       "      <td>0.633371</td>\n",
       "      <td>1.483329</td>\n",
       "      <td>4.106494</td>\n",
       "      <td>28.820770</td>\n",
       "      <td>38.656728</td>\n",
       "      <td>10.132910</td>\n",
       "      <td>10.732621</td>\n",
       "    </tr>\n",
       "    <tr>\n",
       "      <th>4</th>\n",
       "      <td>0.297577</td>\n",
       "      <td>-0.326079</td>\n",
       "      <td>0.338821</td>\n",
       "      <td>0.055969</td>\n",
       "      <td>0.667394</td>\n",
       "      <td>0.602518</td>\n",
       "      <td>-0.092277</td>\n",
       "      <td>-0.000919</td>\n",
       "      <td>-0.394381</td>\n",
       "      <td>-0.948049</td>\n",
       "      <td>-0.518656</td>\n",
       "      <td>-0.762059</td>\n",
       "      <td>3.965215</td>\n",
       "      <td>17.866439</td>\n",
       "      <td>37.797663</td>\n",
       "      <td>9.785320</td>\n",
       "      <td>8.850928</td>\n",
       "    </tr>\n",
       "    <tr>\n",
       "      <th>...</th>\n",
       "      <td>...</td>\n",
       "      <td>...</td>\n",
       "      <td>...</td>\n",
       "      <td>...</td>\n",
       "      <td>...</td>\n",
       "      <td>...</td>\n",
       "      <td>...</td>\n",
       "      <td>...</td>\n",
       "      <td>...</td>\n",
       "      <td>...</td>\n",
       "      <td>...</td>\n",
       "      <td>...</td>\n",
       "      <td>...</td>\n",
       "      <td>...</td>\n",
       "      <td>...</td>\n",
       "      <td>...</td>\n",
       "      <td>...</td>\n",
       "    </tr>\n",
       "    <tr>\n",
       "      <th>148</th>\n",
       "      <td>-1.340331</td>\n",
       "      <td>-2.178113</td>\n",
       "      <td>-0.734780</td>\n",
       "      <td>-1.783806</td>\n",
       "      <td>-1.609843</td>\n",
       "      <td>-1.823410</td>\n",
       "      <td>-2.154376</td>\n",
       "      <td>-2.150461</td>\n",
       "      <td>-2.371532</td>\n",
       "      <td>-2.285419</td>\n",
       "      <td>-2.619411</td>\n",
       "      <td>-2.776305</td>\n",
       "      <td>3.280333</td>\n",
       "      <td>12.413889</td>\n",
       "      <td>23.242262</td>\n",
       "      <td>5.378595</td>\n",
       "      <td>7.311850</td>\n",
       "    </tr>\n",
       "    <tr>\n",
       "      <th>149</th>\n",
       "      <td>-0.919913</td>\n",
       "      <td>-1.091382</td>\n",
       "      <td>-1.041523</td>\n",
       "      <td>-0.010932</td>\n",
       "      <td>-0.243501</td>\n",
       "      <td>-0.326561</td>\n",
       "      <td>-0.408550</td>\n",
       "      <td>-0.854709</td>\n",
       "      <td>-1.122805</td>\n",
       "      <td>-0.948049</td>\n",
       "      <td>-0.902665</td>\n",
       "      <td>-1.158304</td>\n",
       "      <td>3.596988</td>\n",
       "      <td>16.477752</td>\n",
       "      <td>34.365242</td>\n",
       "      <td>7.527648</td>\n",
       "      <td>7.474786</td>\n",
       "    </tr>\n",
       "    <tr>\n",
       "      <th>150</th>\n",
       "      <td>0.968523</td>\n",
       "      <td>0.148409</td>\n",
       "      <td>-0.734780</td>\n",
       "      <td>-0.077832</td>\n",
       "      <td>0.120857</td>\n",
       "      <td>0.137979</td>\n",
       "      <td>0.666777</td>\n",
       "      <td>0.551533</td>\n",
       "      <td>-0.290320</td>\n",
       "      <td>-0.098926</td>\n",
       "      <td>0.249362</td>\n",
       "      <td>-0.002590</td>\n",
       "      <td>3.977372</td>\n",
       "      <td>16.785899</td>\n",
       "      <td>41.176544</td>\n",
       "      <td>10.735525</td>\n",
       "      <td>9.292465</td>\n",
       "    </tr>\n",
       "    <tr>\n",
       "      <th>151</th>\n",
       "      <td>1.273154</td>\n",
       "      <td>1.495342</td>\n",
       "      <td>-1.194895</td>\n",
       "      <td>1.795393</td>\n",
       "      <td>1.760468</td>\n",
       "      <td>1.531597</td>\n",
       "      <td>1.742105</td>\n",
       "      <td>2.048177</td>\n",
       "      <td>1.478709</td>\n",
       "      <td>1.068619</td>\n",
       "      <td>0.994792</td>\n",
       "      <td>1.549370</td>\n",
       "      <td>4.258235</td>\n",
       "      <td>29.831738</td>\n",
       "      <td>44.134553</td>\n",
       "      <td>13.106154</td>\n",
       "      <td>11.448103</td>\n",
       "    </tr>\n",
       "    <tr>\n",
       "      <th>152</th>\n",
       "      <td>-0.440568</td>\n",
       "      <td>-0.004652</td>\n",
       "      <td>1.028993</td>\n",
       "      <td>-0.546139</td>\n",
       "      <td>-0.516769</td>\n",
       "      <td>-0.481407</td>\n",
       "      <td>-0.079626</td>\n",
       "      <td>-0.704040</td>\n",
       "      <td>-0.275454</td>\n",
       "      <td>0.240724</td>\n",
       "      <td>0.068652</td>\n",
       "      <td>-0.332794</td>\n",
       "      <td>4.131277</td>\n",
       "      <td>20.457766</td>\n",
       "      <td>38.918782</td>\n",
       "      <td>8.603281</td>\n",
       "      <td>9.156829</td>\n",
       "    </tr>\n",
       "  </tbody>\n",
       "</table>\n",
       "<p>153 rows × 17 columns</p>\n",
       "</div>"
      ],
      "text/plain": [
       "         edad      peso     talla  per_brazo_rel  per_brazo_ten  \\\n",
       "0   -1.036390 -1.129647 -1.041523      -0.245085      -0.364953   \n",
       "1   -0.425749 -1.106688  0.645564      -1.516202      -2.004565   \n",
       "2    0.033609  1.495342 -1.424952       3.133412       2.974995   \n",
       "3   -0.378883  0.576979 -0.581408       0.357024       0.788847   \n",
       "4    0.297577 -0.326079  0.338821       0.055969       0.667394   \n",
       "..        ...       ...       ...            ...            ...   \n",
       "148 -1.340331 -2.178113 -0.734780      -1.783806      -1.609843   \n",
       "149 -0.919913 -1.091382 -1.041523      -0.010932      -0.243501   \n",
       "150  0.968523  0.148409 -0.734780      -0.077832       0.120857   \n",
       "151  1.273154  1.495342 -1.194895       1.795393       1.760468   \n",
       "152 -0.440568 -0.004652  1.028993      -0.546139      -0.516769   \n",
       "\n",
       "     per_antebrazo  per_torax  per_cintura  per_cadera  per_muslo_max  \\\n",
       "0        -0.791100  -0.661568    -1.015423   -1.182268      -1.117874   \n",
       "1        -1.668563  -2.015216    -1.005378   -0.498441      -1.117874   \n",
       "2         2.718753   1.299323     1.355101    1.642233       2.023883   \n",
       "3         0.757365   0.413759     0.551533    0.675956       0.750198   \n",
       "4         0.602518  -0.092277    -0.000919   -0.394381      -0.948049   \n",
       "..             ...        ...          ...         ...            ...   \n",
       "148      -1.823410  -2.154376    -2.150461   -2.371532      -2.285419   \n",
       "149      -0.326561  -0.408550    -0.854709   -1.122805      -0.948049   \n",
       "150       0.137979   0.666777     0.551533   -0.290320      -0.098926   \n",
       "151       1.531597   1.742105     2.048177    1.478709       1.068619   \n",
       "152      -0.481407  -0.079626    -0.704040   -0.275454       0.240724   \n",
       "\n",
       "     per_muslo_medial  per_pantorrilla  masa_piel  masa_adiposa  \\\n",
       "0           -1.535150        -1.224345   3.585589     17.189072   \n",
       "1           -1.422207        -0.332794   3.764521     24.290302   \n",
       "2            2.033875         1.681451   4.229962     39.435706   \n",
       "3            0.633371         1.483329   4.106494     28.820770   \n",
       "4           -0.518656        -0.762059   3.965215     17.866439   \n",
       "..                ...              ...        ...           ...   \n",
       "148         -2.619411        -2.776305   3.280333     12.413889   \n",
       "149         -0.902665        -1.158304   3.596988     16.477752   \n",
       "150          0.249362        -0.002590   3.977372     16.785899   \n",
       "151          0.994792         1.549370   4.258235     29.831738   \n",
       "152          0.068652        -0.332794   4.131277     20.457766   \n",
       "\n",
       "     masa_muscular  masa_residual  masa_osea  \n",
       "0        32.433673       7.148282   7.474786  \n",
       "1        25.310796       6.384089   9.142289  \n",
       "2        41.820398      11.560786  10.609290  \n",
       "3        38.656728      10.132910  10.732621  \n",
       "4        37.797663       9.785320   8.850928  \n",
       "..             ...            ...        ...  \n",
       "148      23.242262       5.378595   7.311850  \n",
       "149      34.365242       7.527648   7.474786  \n",
       "150      41.176544      10.735525   9.292465  \n",
       "151      44.134553      13.106154  11.448103  \n",
       "152      38.918782       8.603281   9.156829  \n",
       "\n",
       "[153 rows x 17 columns]"
      ]
     },
     "execution_count": 5,
     "metadata": {},
     "output_type": "execute_result"
    }
   ],
   "source": [
    "data_m"
   ]
  },
  {
   "cell_type": "code",
   "execution_count": null,
   "metadata": {},
   "outputs": [],
   "source": []
  },
  {
   "cell_type": "markdown",
   "metadata": {},
   "source": [
    "## Model"
   ]
  },
  {
   "cell_type": "code",
   "execution_count": 6,
   "metadata": {},
   "outputs": [],
   "source": [
    "x_columns = data_m.columns.drop(['masa_piel', 'masa_adiposa', 'masa_muscular', 'masa_residual',\n",
    "       'masa_osea'])\n",
    "y_columns = ['masa_piel', 'masa_adiposa', 'masa_muscular', 'masa_residual',\n",
    "       'masa_osea']\n",
    "\n",
    "X_m = data_m[x_columns].values\n",
    "y_m = data_m[y_columns].values\n",
    "\n",
    "X_f = data_f[x_columns].values\n",
    "y_f = data_f[y_columns].values\n"
   ]
  },
  {
   "cell_type": "code",
   "execution_count": 7,
   "metadata": {},
   "outputs": [
    {
     "data": {
      "text/plain": [
       "Index(['edad', 'peso', 'talla', 'per_brazo_rel', 'per_brazo_ten',\n",
       "       'per_antebrazo', 'per_torax', 'per_cintura', 'per_cadera',\n",
       "       'per_muslo_max', 'per_muslo_medial', 'per_pantorrilla'],\n",
       "      dtype='object')"
      ]
     },
     "execution_count": 7,
     "metadata": {},
     "output_type": "execute_result"
    }
   ],
   "source": [
    "x_columns"
   ]
  },
  {
   "cell_type": "markdown",
   "metadata": {},
   "source": [
    "## split data "
   ]
  },
  {
   "cell_type": "code",
   "execution_count": 8,
   "metadata": {},
   "outputs": [],
   "source": [
    "# Create train/test\n",
    "x_train_m, x_test_m, y_train_m, y_test_m = train_test_split(    \n",
    "    X_m, y_m, test_size=0.25, random_state=42)\n",
    "\n",
    "x_train_f, x_test_f, y_train_f, y_test_f = train_test_split(    \n",
    "    X_f, y_f, test_size=0.25, random_state=42)"
   ]
  },
  {
   "cell_type": "code",
   "execution_count": null,
   "metadata": {},
   "outputs": [],
   "source": []
  },
  {
   "cell_type": "markdown",
   "metadata": {},
   "source": [
    "## Model"
   ]
  },
  {
   "cell_type": "markdown",
   "metadata": {},
   "source": [
    "### Masc"
   ]
  },
  {
   "cell_type": "code",
   "execution_count": 10,
   "metadata": {},
   "outputs": [
    {
     "name": "stdout",
     "output_type": "stream",
     "text": [
      "masa_piel  R2 = 0.973 and MAE = 0.04\n",
      "---------------------------------\n",
      "masa_adiposa  R2 = 0.547 and MAE = 3.194\n",
      "---------------------------------\n",
      "masa_muscular  R2 = 0.927 and MAE = 1.253\n",
      "---------------------------------\n",
      "masa_residual  R2 = 0.844 and MAE = 0.398\n",
      "---------------------------------\n",
      "masa_osea  R2 = 0.835 and MAE = 0.364\n",
      "---------------------------------\n",
      "=================================\n",
      "R2 prom = 0.8252097853835245\n",
      "MAE prom = 1.049855384538565\n"
     ]
    }
   ],
   "source": [
    "R2s = []\n",
    "MAEs = []\n",
    "model = XGBRegressor()\n",
    "for index,target in enumerate(y_columns):\n",
    "    model.fit(x_train_m,y_train_m[:,index])\n",
    "\n",
    "    y_pred = model.predict(x_test_m)\n",
    "    R2 = r2_score(y_test_m[:,index],y_pred)\n",
    "    MAE = mean_absolute_error(y_test_m[:,index],y_pred)\n",
    "    MSE = mean_squared_error(y_test_m[:,index],y_pred)\n",
    "    R2s.append(R2)\n",
    "    MAEs.append(MAE)\n",
    "\n",
    "    print(f'{target}  R2 = {round(R2,3)} and MAE = {round(MAE,3)}')\n",
    "    print('-'*33)\n",
    "print('='*33)\n",
    "print(f'R2 prom = {np.mean(R2s)}')\n",
    "print(f'MAE prom = {np.mean(MAEs)}')"
   ]
  },
  {
   "cell_type": "markdown",
   "metadata": {},
   "source": [
    "### Fem"
   ]
  },
  {
   "cell_type": "code",
   "execution_count": 11,
   "metadata": {},
   "outputs": [
    {
     "name": "stdout",
     "output_type": "stream",
     "text": [
      "masa_piel  R2 = 0.965 and MAE = 0.047\n",
      "---------------------------------\n",
      "masa_adiposa  R2 = 0.689 and MAE = 3.07\n",
      "---------------------------------\n",
      "masa_muscular  R2 = 0.543 and MAE = 1.93\n",
      "---------------------------------\n",
      "masa_residual  R2 = 0.935 and MAE = 0.389\n",
      "---------------------------------\n",
      "masa_osea  R2 = 0.821 and MAE = 0.341\n",
      "---------------------------------\n",
      "=================================\n",
      "R2 prom = 0.7905751115991425\n",
      "MAE prom = 1.155373048986771\n"
     ]
    }
   ],
   "source": [
    "R2s = []\n",
    "MAEs = []\n",
    "for index,target in enumerate(y_columns):\n",
    "    model = XGBRegressor()\n",
    "\n",
    "    model.fit(x_train_f,y_train_f[:,index])\n",
    "\n",
    "    y_pred = model.predict(x_test_f)\n",
    "    R2 = r2_score(y_test_f[:,index],y_pred)\n",
    "    MAE = mean_absolute_error(y_test_f[:,index],y_pred)\n",
    "    MSE = mean_squared_error(y_test_f[:,index],y_pred)\n",
    "    R2s.append(R2)\n",
    "    MAEs.append(MAE)\n",
    "\n",
    "    print(f'{target}  R2 = {round(R2,3)} and MAE = {round(MAE,3)}')\n",
    "    print('-'*33)\n",
    "print('='*33)\n",
    "print(f'R2 prom = {np.mean(R2s)}')\n",
    "print(f'MAE prom = {np.mean(MAEs)}')"
   ]
  },
  {
   "cell_type": "markdown",
   "metadata": {},
   "source": [
    "## Using CV"
   ]
  },
  {
   "cell_type": "markdown",
   "metadata": {},
   "source": [
    "### masc"
   ]
  },
  {
   "cell_type": "code",
   "execution_count": 15,
   "metadata": {},
   "outputs": [
    {
     "name": "stdout",
     "output_type": "stream",
     "text": [
      "masa_piel\n",
      "[0.94386078 0.95285136 0.97309913]\n",
      "0.9566037569448529\n",
      "0.012227857268131697\n",
      "masa_adiposa\n",
      "[0.54952109 0.54813011 0.69437062]\n",
      "0.597340605680102\n",
      "0.06861293195462247\n",
      "masa_muscular\n",
      "[0.8880033  0.83353388 0.86162774]\n",
      "0.8610549754550467\n",
      "0.022240732790178616\n",
      "masa_residual\n",
      "[0.96907328 0.89535385 0.93899065]\n",
      "0.934472591373201\n",
      "0.030264921030690624\n",
      "masa_osea\n",
      "[0.86650104 0.92250793 0.85699722]\n",
      "0.8820020649760644\n",
      "0.028903570526312337\n"
     ]
    }
   ],
   "source": [
    "for index,target in enumerate(y_columns):\n",
    "    model = XGBRegressor()\n",
    "    scores = cross_val_score(model, x_train_m,y_train_m[:,index], cv=3)\n",
    "    print(target)\n",
    "    print(scores)\n",
    "    print(scores.mean())\n",
    "    print(scores.std())"
   ]
  },
  {
   "cell_type": "markdown",
   "metadata": {},
   "source": [
    "### fem"
   ]
  },
  {
   "cell_type": "code",
   "execution_count": 16,
   "metadata": {},
   "outputs": [
    {
     "name": "stdout",
     "output_type": "stream",
     "text": [
      "masa_piel\n",
      "[0.96611843 0.95367223 0.97435102]\n",
      "0.9647138938972996\n",
      "0.008500299384797006\n",
      "masa_adiposa\n",
      "[0.74599442 0.75743354 0.67140937]\n",
      "0.7249457751163803\n",
      "0.038142919878538385\n",
      "masa_muscular\n",
      "[0.85072837 0.6871931  0.69925301]\n",
      "0.7457248257276324\n",
      "0.07441177422693279\n",
      "masa_residual\n",
      "[0.91676944 0.75287138 0.88393444]\n",
      "0.8511917552178719\n",
      "0.07080351375323186\n",
      "masa_osea\n",
      "[0.81480245 0.75717231 0.83665104]\n",
      "0.8028752672825511\n",
      "0.03352521840374243\n"
     ]
    }
   ],
   "source": [
    "for index,target in enumerate(y_columns):\n",
    "    model = XGBRegressor()\n",
    "    scores = cross_val_score(model, x_train_f,y_train_f[:,index], cv=3)\n",
    "    print(target)\n",
    "    print(scores)\n",
    "    print(scores.mean())\n",
    "    print(scores.std())"
   ]
  },
  {
   "cell_type": "markdown",
   "metadata": {},
   "source": [
    "## Using Grid Search CV"
   ]
  },
  {
   "cell_type": "code",
   "execution_count": 58,
   "metadata": {},
   "outputs": [],
   "source": [
    "grid_param = {\n",
    "    'alpha': [0.01,0.03,0.1,0.3,1,3,10]\n",
    "}"
   ]
  },
  {
   "cell_type": "markdown",
   "metadata": {},
   "source": [
    "### masc"
   ]
  },
  {
   "cell_type": "code",
   "execution_count": null,
   "metadata": {},
   "outputs": [],
   "source": [
    "model = XGBRegressor()\n",
    "for index,target in enumerate(y_columns):\n",
    "    gd_sr = GridSearchCV(estimator=model,\n",
    "                        param_grid=grid_param,\n",
    "                        scoring='r2',\n",
    "                        cv=7,\n",
    "                        n_jobs=-1)\n",
    "    gd_sr.fit(x_train_m,y_train_m[:,index])\n",
    "    best_parameters = gd_sr.best_params_\n",
    "    print(target)\n",
    "    print(f'Best R2: {gd_sr.best_score_}')\n",
    "    print(best_parameters)\n",
    "    print('-'*33)\n"
   ]
  },
  {
   "cell_type": "markdown",
   "metadata": {},
   "source": [
    "### fem"
   ]
  },
  {
   "cell_type": "code",
   "execution_count": null,
   "metadata": {},
   "outputs": [],
   "source": [
    "model = Ridge()\n",
    "for index,target in enumerate(y_columns):\n",
    "    gd_sr = GridSearchCV(estimator=model,\n",
    "                        param_grid=grid_param,\n",
    "                        scoring='r2',\n",
    "                        cv=7,\n",
    "                        n_jobs=-1)\n",
    "    gd_sr.fit(x_train_f,y_train_f[:,index])\n",
    "    best_parameters = gd_sr.best_params_\n",
    "    print(target)\n",
    "    print(f'Best R2: {gd_sr.best_score_}')\n",
    "    print(best_parameters)\n",
    "    print('-'*33)\n"
   ]
  },
  {
   "cell_type": "code",
   "execution_count": null,
   "metadata": {},
   "outputs": [],
   "source": []
  }
 ],
 "metadata": {
  "interpreter": {
   "hash": "b77c1dbbb534ea8aacf2fc1d7aa822e0c19c32e78787c1d58af96714d27ca774"
  },
  "kernelspec": {
   "display_name": "Python 3.9.7 ('tf')",
   "language": "python",
   "name": "python3"
  },
  "language_info": {
   "codemirror_mode": {
    "name": "ipython",
    "version": 3
   },
   "file_extension": ".py",
   "mimetype": "text/x-python",
   "name": "python",
   "nbconvert_exporter": "python",
   "pygments_lexer": "ipython3",
   "version": "3.9.12"
  },
  "orig_nbformat": 4
 },
 "nbformat": 4,
 "nbformat_minor": 2
}
