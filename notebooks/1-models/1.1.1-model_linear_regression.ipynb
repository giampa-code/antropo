{
 "cells": [
  {
   "cell_type": "markdown",
   "metadata": {},
   "source": [
    "# Model selection"
   ]
  },
  {
   "cell_type": "markdown",
   "metadata": {},
   "source": [
    "## Libraries"
   ]
  },
  {
   "cell_type": "code",
   "execution_count": 1,
   "metadata": {},
   "outputs": [
    {
     "name": "stderr",
     "output_type": "stream",
     "text": [
      "/home/giampa95/anaconda3/envs/ds/lib/python3.9/site-packages/xgboost/compat.py:36: FutureWarning: pandas.Int64Index is deprecated and will be removed from pandas in a future version. Use pandas.Index with the appropriate dtype instead.\n",
      "  from pandas import MultiIndex, Int64Index\n"
     ]
    }
   ],
   "source": [
    "import pandas as pd\n",
    "import matplotlib.pyplot as plt\n",
    "import seaborn as sns\n",
    "import numpy as np\n",
    "\n",
    "\n",
    "\n",
    "from sklearn.model_selection import train_test_split\n",
    "from sklearn.metrics import accuracy_score,r2_score,mean_squared_error,mean_absolute_error\n",
    "from sklearn.preprocessing import StandardScaler\n",
    "from sklearn.model_selection import cross_val_score, GridSearchCV\n",
    "\n",
    "from sklearn.linear_model import LinearRegression, Ridge\n",
    "from sklearn.svm import SVR\n",
    "from sklearn.ensemble import GradientBoostingRegressor\n",
    "from xgboost import XGBRegressor"
   ]
  },
  {
   "cell_type": "markdown",
   "metadata": {},
   "source": [
    "## Load data"
   ]
  },
  {
   "cell_type": "code",
   "execution_count": 47,
   "metadata": {},
   "outputs": [],
   "source": [
    "# leer data\n",
    "data_m = pd.read_csv('../../data/processed/data_m_v1.csv')\n",
    "data_f = pd.read_csv('../../data/processed/data_f_v1.csv')\n"
   ]
  },
  {
   "cell_type": "markdown",
   "metadata": {},
   "source": [
    "### Separar por sexo"
   ]
  },
  {
   "cell_type": "markdown",
   "metadata": {},
   "source": [
    "### Normalization"
   ]
  },
  {
   "cell_type": "code",
   "execution_count": null,
   "metadata": {},
   "outputs": [],
   "source": []
  },
  {
   "cell_type": "code",
   "execution_count": 48,
   "metadata": {},
   "outputs": [],
   "source": [
    "# with normalization is harder to analyze the results\n",
    "# the dimensions are not very different, so i will leave it without normalization\n",
    "\n"
   ]
  },
  {
   "cell_type": "code",
   "execution_count": 49,
   "metadata": {},
   "outputs": [
    {
     "data": {
      "text/html": [
       "<div>\n",
       "<style scoped>\n",
       "    .dataframe tbody tr th:only-of-type {\n",
       "        vertical-align: middle;\n",
       "    }\n",
       "\n",
       "    .dataframe tbody tr th {\n",
       "        vertical-align: top;\n",
       "    }\n",
       "\n",
       "    .dataframe thead th {\n",
       "        text-align: right;\n",
       "    }\n",
       "</style>\n",
       "<table border=\"1\" class=\"dataframe\">\n",
       "  <thead>\n",
       "    <tr style=\"text-align: right;\">\n",
       "      <th></th>\n",
       "      <th>edad</th>\n",
       "      <th>peso</th>\n",
       "      <th>talla</th>\n",
       "      <th>per_brazo_rel</th>\n",
       "      <th>per_brazo_ten</th>\n",
       "      <th>per_antebrazo</th>\n",
       "      <th>per_torax</th>\n",
       "      <th>per_cintura</th>\n",
       "      <th>per_cadera</th>\n",
       "      <th>per_muslo_max</th>\n",
       "      <th>per_muslo_medial</th>\n",
       "      <th>per_pantorrilla</th>\n",
       "      <th>masa_piel</th>\n",
       "      <th>masa_adiposa</th>\n",
       "      <th>masa_muscular</th>\n",
       "      <th>masa_residual</th>\n",
       "      <th>masa_osea</th>\n",
       "    </tr>\n",
       "  </thead>\n",
       "  <tbody>\n",
       "    <tr>\n",
       "      <th>0</th>\n",
       "      <td>-1.036390</td>\n",
       "      <td>-1.129647</td>\n",
       "      <td>-1.041523</td>\n",
       "      <td>-0.245085</td>\n",
       "      <td>-0.364953</td>\n",
       "      <td>-0.791100</td>\n",
       "      <td>-0.661568</td>\n",
       "      <td>-1.015423</td>\n",
       "      <td>-1.182268</td>\n",
       "      <td>-1.117874</td>\n",
       "      <td>-1.535150</td>\n",
       "      <td>-1.224345</td>\n",
       "      <td>-1.341535</td>\n",
       "      <td>-0.806759</td>\n",
       "      <td>-0.788917</td>\n",
       "      <td>-1.233627</td>\n",
       "      <td>-1.523340</td>\n",
       "    </tr>\n",
       "    <tr>\n",
       "      <th>1</th>\n",
       "      <td>-0.425749</td>\n",
       "      <td>-1.106688</td>\n",
       "      <td>0.645564</td>\n",
       "      <td>-1.516202</td>\n",
       "      <td>-2.004565</td>\n",
       "      <td>-1.668563</td>\n",
       "      <td>-2.015216</td>\n",
       "      <td>-1.005378</td>\n",
       "      <td>-0.498441</td>\n",
       "      <td>-1.117874</td>\n",
       "      <td>-1.422207</td>\n",
       "      <td>-0.332794</td>\n",
       "      <td>-0.773592</td>\n",
       "      <td>0.171437</td>\n",
       "      <td>-1.938302</td>\n",
       "      <td>-1.616691</td>\n",
       "      <td>-0.329323</td>\n",
       "    </tr>\n",
       "    <tr>\n",
       "      <th>2</th>\n",
       "      <td>0.033609</td>\n",
       "      <td>1.495342</td>\n",
       "      <td>-1.424952</td>\n",
       "      <td>3.133412</td>\n",
       "      <td>2.974995</td>\n",
       "      <td>2.718753</td>\n",
       "      <td>1.299323</td>\n",
       "      <td>1.355101</td>\n",
       "      <td>1.642233</td>\n",
       "      <td>2.023883</td>\n",
       "      <td>2.033875</td>\n",
       "      <td>1.681451</td>\n",
       "      <td>0.703758</td>\n",
       "      <td>2.257721</td>\n",
       "      <td>0.725774</td>\n",
       "      <td>0.978207</td>\n",
       "      <td>0.721124</td>\n",
       "    </tr>\n",
       "    <tr>\n",
       "      <th>3</th>\n",
       "      <td>-0.378883</td>\n",
       "      <td>0.576979</td>\n",
       "      <td>-0.581408</td>\n",
       "      <td>0.357024</td>\n",
       "      <td>0.788847</td>\n",
       "      <td>0.757365</td>\n",
       "      <td>0.413759</td>\n",
       "      <td>0.551533</td>\n",
       "      <td>0.675956</td>\n",
       "      <td>0.750198</td>\n",
       "      <td>0.633371</td>\n",
       "      <td>1.483329</td>\n",
       "      <td>0.311860</td>\n",
       "      <td>0.795510</td>\n",
       "      <td>0.215267</td>\n",
       "      <td>0.262463</td>\n",
       "      <td>0.809435</td>\n",
       "    </tr>\n",
       "    <tr>\n",
       "      <th>4</th>\n",
       "      <td>0.297577</td>\n",
       "      <td>-0.326079</td>\n",
       "      <td>0.338821</td>\n",
       "      <td>0.055969</td>\n",
       "      <td>0.667394</td>\n",
       "      <td>0.602518</td>\n",
       "      <td>-0.092277</td>\n",
       "      <td>-0.000919</td>\n",
       "      <td>-0.394381</td>\n",
       "      <td>-0.948049</td>\n",
       "      <td>-0.518656</td>\n",
       "      <td>-0.762059</td>\n",
       "      <td>-0.136571</td>\n",
       "      <td>-0.713452</td>\n",
       "      <td>0.076644</td>\n",
       "      <td>0.088228</td>\n",
       "      <td>-0.537953</td>\n",
       "    </tr>\n",
       "    <tr>\n",
       "      <th>...</th>\n",
       "      <td>...</td>\n",
       "      <td>...</td>\n",
       "      <td>...</td>\n",
       "      <td>...</td>\n",
       "      <td>...</td>\n",
       "      <td>...</td>\n",
       "      <td>...</td>\n",
       "      <td>...</td>\n",
       "      <td>...</td>\n",
       "      <td>...</td>\n",
       "      <td>...</td>\n",
       "      <td>...</td>\n",
       "      <td>...</td>\n",
       "      <td>...</td>\n",
       "      <td>...</td>\n",
       "      <td>...</td>\n",
       "      <td>...</td>\n",
       "    </tr>\n",
       "    <tr>\n",
       "      <th>148</th>\n",
       "      <td>-1.340331</td>\n",
       "      <td>-2.178113</td>\n",
       "      <td>-0.734780</td>\n",
       "      <td>-1.783806</td>\n",
       "      <td>-1.609843</td>\n",
       "      <td>-1.823410</td>\n",
       "      <td>-2.154376</td>\n",
       "      <td>-2.150461</td>\n",
       "      <td>-2.371532</td>\n",
       "      <td>-2.285419</td>\n",
       "      <td>-2.619411</td>\n",
       "      <td>-2.776305</td>\n",
       "      <td>-2.310445</td>\n",
       "      <td>-1.464542</td>\n",
       "      <td>-2.272092</td>\n",
       "      <td>-2.120709</td>\n",
       "      <td>-1.640011</td>\n",
       "    </tr>\n",
       "    <tr>\n",
       "      <th>149</th>\n",
       "      <td>-0.919913</td>\n",
       "      <td>-1.091382</td>\n",
       "      <td>-1.041523</td>\n",
       "      <td>-0.010932</td>\n",
       "      <td>-0.243501</td>\n",
       "      <td>-0.326561</td>\n",
       "      <td>-0.408550</td>\n",
       "      <td>-0.854709</td>\n",
       "      <td>-1.122805</td>\n",
       "      <td>-0.948049</td>\n",
       "      <td>-0.902665</td>\n",
       "      <td>-1.158304</td>\n",
       "      <td>-1.305354</td>\n",
       "      <td>-0.904744</td>\n",
       "      <td>-0.477229</td>\n",
       "      <td>-1.043464</td>\n",
       "      <td>-1.523340</td>\n",
       "    </tr>\n",
       "    <tr>\n",
       "      <th>150</th>\n",
       "      <td>0.968523</td>\n",
       "      <td>0.148409</td>\n",
       "      <td>-0.734780</td>\n",
       "      <td>-0.077832</td>\n",
       "      <td>0.120857</td>\n",
       "      <td>0.137979</td>\n",
       "      <td>0.666777</td>\n",
       "      <td>0.551533</td>\n",
       "      <td>-0.290320</td>\n",
       "      <td>-0.098926</td>\n",
       "      <td>0.249362</td>\n",
       "      <td>-0.002590</td>\n",
       "      <td>-0.097984</td>\n",
       "      <td>-0.862296</td>\n",
       "      <td>0.621878</td>\n",
       "      <td>0.564533</td>\n",
       "      <td>-0.221790</td>\n",
       "    </tr>\n",
       "    <tr>\n",
       "      <th>151</th>\n",
       "      <td>1.273154</td>\n",
       "      <td>1.495342</td>\n",
       "      <td>-1.194895</td>\n",
       "      <td>1.795393</td>\n",
       "      <td>1.760468</td>\n",
       "      <td>1.531597</td>\n",
       "      <td>1.742105</td>\n",
       "      <td>2.048177</td>\n",
       "      <td>1.478709</td>\n",
       "      <td>1.068619</td>\n",
       "      <td>0.994792</td>\n",
       "      <td>1.549370</td>\n",
       "      <td>0.793497</td>\n",
       "      <td>0.934772</td>\n",
       "      <td>1.099198</td>\n",
       "      <td>1.752846</td>\n",
       "      <td>1.321756</td>\n",
       "    </tr>\n",
       "    <tr>\n",
       "      <th>152</th>\n",
       "      <td>-0.440568</td>\n",
       "      <td>-0.004652</td>\n",
       "      <td>1.028993</td>\n",
       "      <td>-0.546139</td>\n",
       "      <td>-0.516769</td>\n",
       "      <td>-0.481407</td>\n",
       "      <td>-0.079626</td>\n",
       "      <td>-0.704040</td>\n",
       "      <td>-0.275454</td>\n",
       "      <td>0.240724</td>\n",
       "      <td>0.068652</td>\n",
       "      <td>-0.332794</td>\n",
       "      <td>0.390522</td>\n",
       "      <td>-0.356496</td>\n",
       "      <td>0.257554</td>\n",
       "      <td>-0.504287</td>\n",
       "      <td>-0.318912</td>\n",
       "    </tr>\n",
       "  </tbody>\n",
       "</table>\n",
       "<p>153 rows × 17 columns</p>\n",
       "</div>"
      ],
      "text/plain": [
       "         edad      peso     talla  per_brazo_rel  per_brazo_ten  \\\n",
       "0   -1.036390 -1.129647 -1.041523      -0.245085      -0.364953   \n",
       "1   -0.425749 -1.106688  0.645564      -1.516202      -2.004565   \n",
       "2    0.033609  1.495342 -1.424952       3.133412       2.974995   \n",
       "3   -0.378883  0.576979 -0.581408       0.357024       0.788847   \n",
       "4    0.297577 -0.326079  0.338821       0.055969       0.667394   \n",
       "..        ...       ...       ...            ...            ...   \n",
       "148 -1.340331 -2.178113 -0.734780      -1.783806      -1.609843   \n",
       "149 -0.919913 -1.091382 -1.041523      -0.010932      -0.243501   \n",
       "150  0.968523  0.148409 -0.734780      -0.077832       0.120857   \n",
       "151  1.273154  1.495342 -1.194895       1.795393       1.760468   \n",
       "152 -0.440568 -0.004652  1.028993      -0.546139      -0.516769   \n",
       "\n",
       "     per_antebrazo  per_torax  per_cintura  per_cadera  per_muslo_max  \\\n",
       "0        -0.791100  -0.661568    -1.015423   -1.182268      -1.117874   \n",
       "1        -1.668563  -2.015216    -1.005378   -0.498441      -1.117874   \n",
       "2         2.718753   1.299323     1.355101    1.642233       2.023883   \n",
       "3         0.757365   0.413759     0.551533    0.675956       0.750198   \n",
       "4         0.602518  -0.092277    -0.000919   -0.394381      -0.948049   \n",
       "..             ...        ...          ...         ...            ...   \n",
       "148      -1.823410  -2.154376    -2.150461   -2.371532      -2.285419   \n",
       "149      -0.326561  -0.408550    -0.854709   -1.122805      -0.948049   \n",
       "150       0.137979   0.666777     0.551533   -0.290320      -0.098926   \n",
       "151       1.531597   1.742105     2.048177    1.478709       1.068619   \n",
       "152      -0.481407  -0.079626    -0.704040   -0.275454       0.240724   \n",
       "\n",
       "     per_muslo_medial  per_pantorrilla  masa_piel  masa_adiposa  \\\n",
       "0           -1.535150        -1.224345  -1.341535     -0.806759   \n",
       "1           -1.422207        -0.332794  -0.773592      0.171437   \n",
       "2            2.033875         1.681451   0.703758      2.257721   \n",
       "3            0.633371         1.483329   0.311860      0.795510   \n",
       "4           -0.518656        -0.762059  -0.136571     -0.713452   \n",
       "..                ...              ...        ...           ...   \n",
       "148         -2.619411        -2.776305  -2.310445     -1.464542   \n",
       "149         -0.902665        -1.158304  -1.305354     -0.904744   \n",
       "150          0.249362        -0.002590  -0.097984     -0.862296   \n",
       "151          0.994792         1.549370   0.793497      0.934772   \n",
       "152          0.068652        -0.332794   0.390522     -0.356496   \n",
       "\n",
       "     masa_muscular  masa_residual  masa_osea  \n",
       "0        -0.788917      -1.233627  -1.523340  \n",
       "1        -1.938302      -1.616691  -0.329323  \n",
       "2         0.725774       0.978207   0.721124  \n",
       "3         0.215267       0.262463   0.809435  \n",
       "4         0.076644       0.088228  -0.537953  \n",
       "..             ...            ...        ...  \n",
       "148      -2.272092      -2.120709  -1.640011  \n",
       "149      -0.477229      -1.043464  -1.523340  \n",
       "150       0.621878       0.564533  -0.221790  \n",
       "151       1.099198       1.752846   1.321756  \n",
       "152       0.257554      -0.504287  -0.318912  \n",
       "\n",
       "[153 rows x 17 columns]"
      ]
     },
     "execution_count": 49,
     "metadata": {},
     "output_type": "execute_result"
    }
   ],
   "source": [
    "data_m"
   ]
  },
  {
   "cell_type": "code",
   "execution_count": null,
   "metadata": {},
   "outputs": [],
   "source": []
  },
  {
   "cell_type": "markdown",
   "metadata": {},
   "source": [
    "## Model"
   ]
  },
  {
   "cell_type": "code",
   "execution_count": 50,
   "metadata": {},
   "outputs": [],
   "source": [
    "x_columns = data_m.columns.drop(['masa_piel', 'masa_adiposa', 'masa_muscular', 'masa_residual',\n",
    "       'masa_osea'])\n",
    "y_columns = ['masa_piel', 'masa_adiposa', 'masa_muscular', 'masa_residual',\n",
    "       'masa_osea']\n",
    "\n",
    "X_m = data_m[x_columns].values\n",
    "y_m = data_m[y_columns].values\n",
    "\n",
    "X_f = data_f[x_columns].values\n",
    "y_f = data_f[y_columns].values\n"
   ]
  },
  {
   "cell_type": "code",
   "execution_count": 51,
   "metadata": {},
   "outputs": [
    {
     "data": {
      "text/plain": [
       "Index(['edad', 'peso', 'talla', 'per_brazo_rel', 'per_brazo_ten',\n",
       "       'per_antebrazo', 'per_torax', 'per_cintura', 'per_cadera',\n",
       "       'per_muslo_max', 'per_muslo_medial', 'per_pantorrilla'],\n",
       "      dtype='object')"
      ]
     },
     "execution_count": 51,
     "metadata": {},
     "output_type": "execute_result"
    }
   ],
   "source": [
    "x_columns"
   ]
  },
  {
   "cell_type": "markdown",
   "metadata": {},
   "source": [
    "## split data "
   ]
  },
  {
   "cell_type": "code",
   "execution_count": 52,
   "metadata": {},
   "outputs": [],
   "source": [
    "# Create train/test\n",
    "x_train_m, x_test_m, y_train_m, y_test_m = train_test_split(    \n",
    "    X_m, y_m, test_size=0.3, random_state=5)\n",
    "\n",
    "x_train_f, x_test_f, y_train_f, y_test_f = train_test_split(    \n",
    "    X_f, y_f, test_size=0.3, random_state=5)"
   ]
  },
  {
   "cell_type": "code",
   "execution_count": null,
   "metadata": {},
   "outputs": [],
   "source": []
  },
  {
   "cell_type": "markdown",
   "metadata": {},
   "source": [
    "## Model"
   ]
  },
  {
   "cell_type": "markdown",
   "metadata": {},
   "source": [
    "### Masc"
   ]
  },
  {
   "cell_type": "code",
   "execution_count": 53,
   "metadata": {},
   "outputs": [
    {
     "name": "stdout",
     "output_type": "stream",
     "text": [
      "masa_piel  R2 = 0.998 and MAE = 0.029\n",
      "---------------------------------\n",
      "masa_adiposa  R2 = 0.823 and MAE = 0.315\n",
      "---------------------------------\n",
      "masa_muscular  R2 = 0.95 and MAE = 0.174\n",
      "---------------------------------\n",
      "masa_residual  R2 = 0.952 and MAE = 0.168\n",
      "---------------------------------\n",
      "masa_osea  R2 = 0.859 and MAE = 0.291\n",
      "---------------------------------\n",
      "=================================\n",
      "R2 prom = 0.9161341140336777\n",
      "MAE prom = 0.19538245904718948\n"
     ]
    }
   ],
   "source": [
    "R2s = []\n",
    "MAEs = []\n",
    "model = Ridge(alpha=0.1)\n",
    "for index,target in enumerate(y_columns):\n",
    "    model.fit(x_train_m,y_train_m[:,index])\n",
    "\n",
    "    y_pred = model.predict(x_test_m)\n",
    "    R2 = r2_score(y_test_m[:,index],y_pred)\n",
    "    MAE = mean_absolute_error(y_test_m[:,index],y_pred)\n",
    "    MSE = mean_squared_error(y_test_m[:,index],y_pred)\n",
    "    R2s.append(R2)\n",
    "    MAEs.append(MAE)\n",
    "\n",
    "    print(f'{target}  R2 = {round(R2,3)} and MAE = {round(MAE,3)}')\n",
    "    print('-'*33)\n",
    "print('='*33)\n",
    "print(f'R2 prom = {np.mean(R2s)}')\n",
    "print(f'MAE prom = {np.mean(MAEs)}')"
   ]
  },
  {
   "cell_type": "markdown",
   "metadata": {},
   "source": [
    "### Fem"
   ]
  },
  {
   "cell_type": "code",
   "execution_count": 54,
   "metadata": {},
   "outputs": [
    {
     "name": "stdout",
     "output_type": "stream",
     "text": [
      "masa_piel  R2 = 0.998 and MAE = 0.034\n",
      "---------------------------------\n",
      "masa_adiposa  R2 = 0.674 and MAE = 0.377\n",
      "---------------------------------\n",
      "masa_muscular  R2 = 0.792 and MAE = 0.402\n",
      "---------------------------------\n",
      "masa_residual  R2 = 0.942 and MAE = 0.194\n",
      "---------------------------------\n",
      "masa_osea  R2 = 0.85 and MAE = 0.332\n",
      "---------------------------------\n",
      "=================================\n",
      "R2 prom = 0.851045099409754\n",
      "MAE prom = 0.2678466350769661\n"
     ]
    }
   ],
   "source": [
    "R2s = []\n",
    "MAEs = []\n",
    "for index,target in enumerate(y_columns):\n",
    "    model = Ridge(alpha=0.1)\n",
    "\n",
    "    model.fit(x_train_f,y_train_f[:,index])\n",
    "\n",
    "    y_pred = model.predict(x_test_f)\n",
    "    R2 = r2_score(y_test_f[:,index],y_pred)\n",
    "    MAE = mean_absolute_error(y_test_f[:,index],y_pred)\n",
    "    MSE = mean_squared_error(y_test_f[:,index],y_pred)\n",
    "    R2s.append(R2)\n",
    "    MAEs.append(MAE)\n",
    "\n",
    "    print(f'{target}  R2 = {round(R2,3)} and MAE = {round(MAE,3)}')\n",
    "    print('-'*33)\n",
    "print('='*33)\n",
    "print(f'R2 prom = {np.mean(R2s)}')\n",
    "print(f'MAE prom = {np.mean(MAEs)}')"
   ]
  },
  {
   "cell_type": "markdown",
   "metadata": {},
   "source": [
    "## Using CV"
   ]
  },
  {
   "cell_type": "markdown",
   "metadata": {},
   "source": [
    "### masc"
   ]
  },
  {
   "cell_type": "code",
   "execution_count": 55,
   "metadata": {},
   "outputs": [
    {
     "name": "stdout",
     "output_type": "stream",
     "text": [
      "masa_piel\n",
      "[0.99629997 0.99541645 0.99496763 0.99819209 0.9988079  0.99758744]\n",
      "0.9968785801210331\n",
      "0.0014185929058428016\n",
      "masa_adiposa\n",
      "[0.60670421 0.56874955 0.10931481 0.83158332 0.78215981 0.65290381]\n",
      "0.5919025826583684\n",
      "0.23488008557541998\n",
      "masa_muscular\n",
      "[0.88104082 0.89366411 0.89872568 0.89592358 0.89553079 0.90696072]\n",
      "0.8953076178252289\n",
      "0.007682770611045094\n",
      "masa_residual\n",
      "[0.93964329 0.88431802 0.88863627 0.94990569 0.95415399 0.94850711]\n",
      "0.9275273970314428\n",
      "0.029371973912303687\n",
      "masa_osea\n",
      "[0.72938788 0.76948504 0.81661105 0.74865065 0.78558853 0.72129712]\n",
      "0.761836714255037\n",
      "0.03289663565739481\n"
     ]
    }
   ],
   "source": [
    "for index,target in enumerate(y_columns):\n",
    "    model = Ridge(alpha=0.1)\n",
    "    scores = cross_val_score(model, x_train_m,y_train_m[:,index], cv=6)\n",
    "    print(target)\n",
    "    print(scores)\n",
    "    print(scores.mean())\n",
    "    print(scores.std())"
   ]
  },
  {
   "cell_type": "markdown",
   "metadata": {},
   "source": [
    "### fem"
   ]
  },
  {
   "cell_type": "code",
   "execution_count": 56,
   "metadata": {},
   "outputs": [
    {
     "name": "stdout",
     "output_type": "stream",
     "text": [
      "masa_piel\n",
      "[0.99284964 0.99671809 0.99694399 0.99439481 0.99740759]\n",
      "0.9956628230317633\n",
      "0.00175048751532094\n",
      "masa_adiposa\n",
      "[0.87467629 0.68852123 0.57221961 0.62619348 0.81736273]\n",
      "0.7157946704705068\n",
      "0.11396968955079372\n",
      "masa_muscular\n",
      "[0.7457049  0.7039414  0.60441273 0.76150894 0.7165702 ]\n",
      "0.7064276357385525\n",
      "0.05494132817770922\n",
      "masa_residual\n",
      "[0.84633315 0.89796574 0.93861672 0.91514873 0.77266534]\n",
      "0.8741459386705477\n",
      "0.059121833917858455\n",
      "masa_osea\n",
      "[0.6544064  0.78058401 0.76279998 0.73714541 0.78077478]\n",
      "0.7431421162460161\n",
      "0.04714770789460813\n"
     ]
    }
   ],
   "source": [
    "for index,target in enumerate(y_columns):\n",
    "    model = Ridge(alpha=0.1)\n",
    "    scores = cross_val_score(model, x_train_f,y_train_f[:,index], cv=5)\n",
    "    print(target)\n",
    "    print(scores)\n",
    "    print(scores.mean())\n",
    "    print(scores.std())"
   ]
  },
  {
   "cell_type": "markdown",
   "metadata": {},
   "source": [
    "## Using Grid Search CV"
   ]
  },
  {
   "cell_type": "code",
   "execution_count": 58,
   "metadata": {},
   "outputs": [],
   "source": [
    "grid_param = {\n",
    "    'alpha': [0.01,0.03,0.1,0.3,1,3,10]\n",
    "}"
   ]
  },
  {
   "cell_type": "markdown",
   "metadata": {},
   "source": [
    "### masc"
   ]
  },
  {
   "cell_type": "code",
   "execution_count": 63,
   "metadata": {},
   "outputs": [
    {
     "name": "stdout",
     "output_type": "stream",
     "text": [
      "masa_piel\n",
      "Best R2: 0.9971838459182357\n",
      "{'alpha': 0.01}\n",
      "---------------------------------\n",
      "masa_adiposa\n",
      "Best R2: 0.6514242533346094\n",
      "{'alpha': 1}\n",
      "---------------------------------\n",
      "masa_muscular\n",
      "Best R2: 0.8973014650050797\n",
      "{'alpha': 1}\n",
      "---------------------------------\n",
      "masa_residual\n",
      "Best R2: 0.9221676330142631\n",
      "{'alpha': 1}\n",
      "---------------------------------\n",
      "masa_osea\n",
      "Best R2: 0.7564179261542314\n",
      "{'alpha': 3}\n",
      "---------------------------------\n"
     ]
    }
   ],
   "source": [
    "model = Ridge()\n",
    "for index,target in enumerate(y_columns):\n",
    "    gd_sr = GridSearchCV(estimator=model,\n",
    "                        param_grid=grid_param,\n",
    "                        scoring='r2',\n",
    "                        cv=7,\n",
    "                        n_jobs=-1)\n",
    "    gd_sr.fit(x_train_m,y_train_m[:,index])\n",
    "    best_parameters = gd_sr.best_params_\n",
    "    print(target)\n",
    "    print(f'Best R2: {gd_sr.best_score_}')\n",
    "    print(best_parameters)\n",
    "    print('-'*33)\n"
   ]
  },
  {
   "cell_type": "markdown",
   "metadata": {},
   "source": [
    "### fem"
   ]
  },
  {
   "cell_type": "code",
   "execution_count": 64,
   "metadata": {},
   "outputs": [
    {
     "name": "stdout",
     "output_type": "stream",
     "text": [
      "masa_piel\n",
      "Best R2: 0.9957366621008733\n",
      "{'alpha': 0.03}\n",
      "---------------------------------\n",
      "masa_adiposa\n",
      "Best R2: 0.6461485354926971\n",
      "{'alpha': 10}\n",
      "---------------------------------\n",
      "masa_muscular\n",
      "Best R2: 0.7076203647939164\n",
      "{'alpha': 3}\n",
      "---------------------------------\n",
      "masa_residual\n",
      "Best R2: 0.8624139733586291\n",
      "{'alpha': 3}\n",
      "---------------------------------\n",
      "masa_osea\n",
      "Best R2: 0.7601745842644624\n",
      "{'alpha': 3}\n",
      "---------------------------------\n"
     ]
    }
   ],
   "source": [
    "model = Ridge()\n",
    "for index,target in enumerate(y_columns):\n",
    "    gd_sr = GridSearchCV(estimator=model,\n",
    "                        param_grid=grid_param,\n",
    "                        scoring='r2',\n",
    "                        cv=7,\n",
    "                        n_jobs=-1)\n",
    "    gd_sr.fit(x_train_f,y_train_f[:,index])\n",
    "    best_parameters = gd_sr.best_params_\n",
    "    print(target)\n",
    "    print(f'Best R2: {gd_sr.best_score_}')\n",
    "    print(best_parameters)\n",
    "    print('-'*33)\n"
   ]
  },
  {
   "cell_type": "code",
   "execution_count": null,
   "metadata": {},
   "outputs": [],
   "source": []
  }
 ],
 "metadata": {
  "interpreter": {
   "hash": "b77c1dbbb534ea8aacf2fc1d7aa822e0c19c32e78787c1d58af96714d27ca774"
  },
  "kernelspec": {
   "display_name": "Python 3.9.7 ('tf')",
   "language": "python",
   "name": "python3"
  },
  "language_info": {
   "codemirror_mode": {
    "name": "ipython",
    "version": 3
   },
   "file_extension": ".py",
   "mimetype": "text/x-python",
   "name": "python",
   "nbconvert_exporter": "python",
   "pygments_lexer": "ipython3",
   "version": "3.9.12"
  },
  "orig_nbformat": 4
 },
 "nbformat": 4,
 "nbformat_minor": 2
}
