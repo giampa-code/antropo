{
 "cells": [
  {
   "cell_type": "markdown",
   "metadata": {},
   "source": [
    "# Model selection"
   ]
  },
  {
   "cell_type": "markdown",
   "metadata": {},
   "source": [
    "## Libraries"
   ]
  },
  {
   "cell_type": "code",
   "execution_count": 1,
   "metadata": {},
   "outputs": [
    {
     "name": "stderr",
     "output_type": "stream",
     "text": [
      "/home/giampa95/anaconda3/envs/ds/lib/python3.9/site-packages/xgboost/compat.py:36: FutureWarning: pandas.Int64Index is deprecated and will be removed from pandas in a future version. Use pandas.Index with the appropriate dtype instead.\n",
      "  from pandas import MultiIndex, Int64Index\n"
     ]
    }
   ],
   "source": [
    "import pandas as pd\n",
    "import matplotlib.pyplot as plt\n",
    "import seaborn as sns\n",
    "import numpy as np\n",
    "\n",
    "\n",
    "\n",
    "from sklearn.model_selection import train_test_split\n",
    "from sklearn.metrics import accuracy_score,r2_score,mean_squared_error,mean_absolute_error\n",
    "from sklearn.preprocessing import StandardScaler\n",
    "from sklearn.model_selection import cross_val_score, GridSearchCV\n",
    "\n",
    "from sklearn.linear_model import LinearRegression, Ridge\n",
    "from sklearn.svm import SVR\n",
    "from sklearn.ensemble import GradientBoostingRegressor\n",
    "from xgboost import XGBRegressor"
   ]
  },
  {
   "cell_type": "markdown",
   "metadata": {},
   "source": [
    "## Load data"
   ]
  },
  {
   "cell_type": "code",
   "execution_count": 2,
   "metadata": {},
   "outputs": [],
   "source": [
    "# leer data\n",
    "data_m = pd.read_csv('../../data/processed/data_m_v2.csv')\n",
    "data_f = pd.read_csv('../../data/processed/data_f_v2.csv')\n"
   ]
  },
  {
   "cell_type": "markdown",
   "metadata": {},
   "source": [
    "### Separar por sexo"
   ]
  },
  {
   "cell_type": "markdown",
   "metadata": {},
   "source": [
    "### Normalization"
   ]
  },
  {
   "cell_type": "markdown",
   "metadata": {},
   "source": []
  },
  {
   "cell_type": "code",
   "execution_count": null,
   "metadata": {},
   "outputs": [],
   "source": []
  },
  {
   "cell_type": "code",
   "execution_count": 3,
   "metadata": {},
   "outputs": [],
   "source": [
    "# with normalization is harder to analyze the results\n",
    "# the dimensions are not very different, so i will leave it without normalization\n",
    "\n"
   ]
  },
  {
   "cell_type": "code",
   "execution_count": 4,
   "metadata": {},
   "outputs": [
    {
     "data": {
      "text/html": [
       "<div>\n",
       "<style scoped>\n",
       "    .dataframe tbody tr th:only-of-type {\n",
       "        vertical-align: middle;\n",
       "    }\n",
       "\n",
       "    .dataframe tbody tr th {\n",
       "        vertical-align: top;\n",
       "    }\n",
       "\n",
       "    .dataframe thead th {\n",
       "        text-align: right;\n",
       "    }\n",
       "</style>\n",
       "<table border=\"1\" class=\"dataframe\">\n",
       "  <thead>\n",
       "    <tr style=\"text-align: right;\">\n",
       "      <th></th>\n",
       "      <th>edad</th>\n",
       "      <th>peso</th>\n",
       "      <th>talla</th>\n",
       "      <th>per_brazo_rel</th>\n",
       "      <th>per_brazo_ten</th>\n",
       "      <th>per_antebrazo</th>\n",
       "      <th>per_torax</th>\n",
       "      <th>per_cintura</th>\n",
       "      <th>per_cadera</th>\n",
       "      <th>per_muslo_max</th>\n",
       "      <th>...</th>\n",
       "      <th>talla_2</th>\n",
       "      <th>per_brazo_rel_2</th>\n",
       "      <th>per_brazo_ten_2</th>\n",
       "      <th>per_antebrazo_2</th>\n",
       "      <th>per_torax_2</th>\n",
       "      <th>per_cintura_2</th>\n",
       "      <th>per_cadera_2</th>\n",
       "      <th>per_muslo_max_2</th>\n",
       "      <th>per_muslo_medial_2</th>\n",
       "      <th>per_pantorrilla_2</th>\n",
       "    </tr>\n",
       "  </thead>\n",
       "  <tbody>\n",
       "    <tr>\n",
       "      <th>0</th>\n",
       "      <td>-1.036390</td>\n",
       "      <td>-1.129647</td>\n",
       "      <td>-1.041523</td>\n",
       "      <td>-0.245085</td>\n",
       "      <td>-0.364953</td>\n",
       "      <td>-0.791100</td>\n",
       "      <td>-0.661568</td>\n",
       "      <td>-1.015423</td>\n",
       "      <td>-1.182268</td>\n",
       "      <td>-1.117874</td>\n",
       "      <td>...</td>\n",
       "      <td>1.084770</td>\n",
       "      <td>0.060067</td>\n",
       "      <td>0.133191</td>\n",
       "      <td>0.625839</td>\n",
       "      <td>0.437672</td>\n",
       "      <td>1.031083e+00</td>\n",
       "      <td>1.397758</td>\n",
       "      <td>1.249642</td>\n",
       "      <td>2.356687</td>\n",
       "      <td>1.499021</td>\n",
       "    </tr>\n",
       "    <tr>\n",
       "      <th>1</th>\n",
       "      <td>-0.425749</td>\n",
       "      <td>-1.106688</td>\n",
       "      <td>0.645564</td>\n",
       "      <td>-1.516202</td>\n",
       "      <td>-2.004565</td>\n",
       "      <td>-1.668563</td>\n",
       "      <td>-2.015216</td>\n",
       "      <td>-1.005378</td>\n",
       "      <td>-0.498441</td>\n",
       "      <td>-1.117874</td>\n",
       "      <td>...</td>\n",
       "      <td>0.416753</td>\n",
       "      <td>2.298869</td>\n",
       "      <td>4.018279</td>\n",
       "      <td>2.784104</td>\n",
       "      <td>4.061094</td>\n",
       "      <td>1.010785e+00</td>\n",
       "      <td>0.248444</td>\n",
       "      <td>1.249642</td>\n",
       "      <td>2.022671</td>\n",
       "      <td>0.110752</td>\n",
       "    </tr>\n",
       "    <tr>\n",
       "      <th>2</th>\n",
       "      <td>0.033609</td>\n",
       "      <td>1.495342</td>\n",
       "      <td>-1.424952</td>\n",
       "      <td>3.133412</td>\n",
       "      <td>2.974995</td>\n",
       "      <td>2.718753</td>\n",
       "      <td>1.299323</td>\n",
       "      <td>1.355101</td>\n",
       "      <td>1.642233</td>\n",
       "      <td>2.023883</td>\n",
       "      <td>...</td>\n",
       "      <td>2.030488</td>\n",
       "      <td>9.818270</td>\n",
       "      <td>8.850597</td>\n",
       "      <td>7.391618</td>\n",
       "      <td>1.688240</td>\n",
       "      <td>1.836298e+00</td>\n",
       "      <td>2.696930</td>\n",
       "      <td>4.096102</td>\n",
       "      <td>4.136647</td>\n",
       "      <td>2.827279</td>\n",
       "    </tr>\n",
       "    <tr>\n",
       "      <th>3</th>\n",
       "      <td>-0.378883</td>\n",
       "      <td>0.576979</td>\n",
       "      <td>-0.581408</td>\n",
       "      <td>0.357024</td>\n",
       "      <td>0.788847</td>\n",
       "      <td>0.757365</td>\n",
       "      <td>0.413759</td>\n",
       "      <td>0.551533</td>\n",
       "      <td>0.675956</td>\n",
       "      <td>0.750198</td>\n",
       "      <td>...</td>\n",
       "      <td>0.338036</td>\n",
       "      <td>0.127466</td>\n",
       "      <td>0.622280</td>\n",
       "      <td>0.573601</td>\n",
       "      <td>0.171197</td>\n",
       "      <td>3.041890e-01</td>\n",
       "      <td>0.456917</td>\n",
       "      <td>0.562797</td>\n",
       "      <td>0.401159</td>\n",
       "      <td>2.200264</td>\n",
       "    </tr>\n",
       "    <tr>\n",
       "      <th>4</th>\n",
       "      <td>0.297577</td>\n",
       "      <td>-0.326079</td>\n",
       "      <td>0.338821</td>\n",
       "      <td>0.055969</td>\n",
       "      <td>0.667394</td>\n",
       "      <td>0.602518</td>\n",
       "      <td>-0.092277</td>\n",
       "      <td>-0.000919</td>\n",
       "      <td>-0.394381</td>\n",
       "      <td>-0.948049</td>\n",
       "      <td>...</td>\n",
       "      <td>0.114800</td>\n",
       "      <td>0.003133</td>\n",
       "      <td>0.445415</td>\n",
       "      <td>0.363028</td>\n",
       "      <td>0.008515</td>\n",
       "      <td>8.447684e-07</td>\n",
       "      <td>0.155536</td>\n",
       "      <td>0.898797</td>\n",
       "      <td>0.269004</td>\n",
       "      <td>0.580735</td>\n",
       "    </tr>\n",
       "    <tr>\n",
       "      <th>...</th>\n",
       "      <td>...</td>\n",
       "      <td>...</td>\n",
       "      <td>...</td>\n",
       "      <td>...</td>\n",
       "      <td>...</td>\n",
       "      <td>...</td>\n",
       "      <td>...</td>\n",
       "      <td>...</td>\n",
       "      <td>...</td>\n",
       "      <td>...</td>\n",
       "      <td>...</td>\n",
       "      <td>...</td>\n",
       "      <td>...</td>\n",
       "      <td>...</td>\n",
       "      <td>...</td>\n",
       "      <td>...</td>\n",
       "      <td>...</td>\n",
       "      <td>...</td>\n",
       "      <td>...</td>\n",
       "      <td>...</td>\n",
       "      <td>...</td>\n",
       "    </tr>\n",
       "    <tr>\n",
       "      <th>148</th>\n",
       "      <td>-1.340331</td>\n",
       "      <td>-2.178113</td>\n",
       "      <td>-0.734780</td>\n",
       "      <td>-1.783806</td>\n",
       "      <td>-1.609843</td>\n",
       "      <td>-1.823410</td>\n",
       "      <td>-2.154376</td>\n",
       "      <td>-2.150461</td>\n",
       "      <td>-2.371532</td>\n",
       "      <td>-2.285419</td>\n",
       "      <td>...</td>\n",
       "      <td>0.539902</td>\n",
       "      <td>3.181964</td>\n",
       "      <td>2.591596</td>\n",
       "      <td>3.324824</td>\n",
       "      <td>4.641334</td>\n",
       "      <td>4.624484e+00</td>\n",
       "      <td>5.624162</td>\n",
       "      <td>5.223138</td>\n",
       "      <td>6.861315</td>\n",
       "      <td>7.707868</td>\n",
       "    </tr>\n",
       "    <tr>\n",
       "      <th>149</th>\n",
       "      <td>-0.919913</td>\n",
       "      <td>-1.091382</td>\n",
       "      <td>-1.041523</td>\n",
       "      <td>-0.010932</td>\n",
       "      <td>-0.243501</td>\n",
       "      <td>-0.326561</td>\n",
       "      <td>-0.408550</td>\n",
       "      <td>-0.854709</td>\n",
       "      <td>-1.122805</td>\n",
       "      <td>-0.948049</td>\n",
       "      <td>...</td>\n",
       "      <td>1.084770</td>\n",
       "      <td>0.000119</td>\n",
       "      <td>0.059293</td>\n",
       "      <td>0.106642</td>\n",
       "      <td>0.166913</td>\n",
       "      <td>7.305279e-01</td>\n",
       "      <td>1.260691</td>\n",
       "      <td>0.898797</td>\n",
       "      <td>0.814804</td>\n",
       "      <td>1.341669</td>\n",
       "    </tr>\n",
       "    <tr>\n",
       "      <th>150</th>\n",
       "      <td>0.968523</td>\n",
       "      <td>0.148409</td>\n",
       "      <td>-0.734780</td>\n",
       "      <td>-0.077832</td>\n",
       "      <td>0.120857</td>\n",
       "      <td>0.137979</td>\n",
       "      <td>0.666777</td>\n",
       "      <td>0.551533</td>\n",
       "      <td>-0.290320</td>\n",
       "      <td>-0.098926</td>\n",
       "      <td>...</td>\n",
       "      <td>0.539902</td>\n",
       "      <td>0.006058</td>\n",
       "      <td>0.014606</td>\n",
       "      <td>0.019038</td>\n",
       "      <td>0.444592</td>\n",
       "      <td>3.041890e-01</td>\n",
       "      <td>0.084286</td>\n",
       "      <td>0.009786</td>\n",
       "      <td>0.062182</td>\n",
       "      <td>0.000007</td>\n",
       "    </tr>\n",
       "    <tr>\n",
       "      <th>151</th>\n",
       "      <td>1.273154</td>\n",
       "      <td>1.495342</td>\n",
       "      <td>-1.194895</td>\n",
       "      <td>1.795393</td>\n",
       "      <td>1.760468</td>\n",
       "      <td>1.531597</td>\n",
       "      <td>1.742105</td>\n",
       "      <td>2.048177</td>\n",
       "      <td>1.478709</td>\n",
       "      <td>1.068619</td>\n",
       "      <td>...</td>\n",
       "      <td>1.427773</td>\n",
       "      <td>3.223437</td>\n",
       "      <td>3.099249</td>\n",
       "      <td>2.345789</td>\n",
       "      <td>3.034929</td>\n",
       "      <td>4.195030e+00</td>\n",
       "      <td>2.186581</td>\n",
       "      <td>1.141947</td>\n",
       "      <td>0.989610</td>\n",
       "      <td>2.400546</td>\n",
       "    </tr>\n",
       "    <tr>\n",
       "      <th>152</th>\n",
       "      <td>-0.440568</td>\n",
       "      <td>-0.004652</td>\n",
       "      <td>1.028993</td>\n",
       "      <td>-0.546139</td>\n",
       "      <td>-0.516769</td>\n",
       "      <td>-0.481407</td>\n",
       "      <td>-0.079626</td>\n",
       "      <td>-0.704040</td>\n",
       "      <td>-0.275454</td>\n",
       "      <td>0.240724</td>\n",
       "      <td>...</td>\n",
       "      <td>1.058826</td>\n",
       "      <td>0.298268</td>\n",
       "      <td>0.267050</td>\n",
       "      <td>0.231753</td>\n",
       "      <td>0.006340</td>\n",
       "      <td>4.956729e-01</td>\n",
       "      <td>0.075875</td>\n",
       "      <td>0.057948</td>\n",
       "      <td>0.004713</td>\n",
       "      <td>0.110752</td>\n",
       "    </tr>\n",
       "  </tbody>\n",
       "</table>\n",
       "<p>153 rows × 29 columns</p>\n",
       "</div>"
      ],
      "text/plain": [
       "         edad      peso     talla  per_brazo_rel  per_brazo_ten  \\\n",
       "0   -1.036390 -1.129647 -1.041523      -0.245085      -0.364953   \n",
       "1   -0.425749 -1.106688  0.645564      -1.516202      -2.004565   \n",
       "2    0.033609  1.495342 -1.424952       3.133412       2.974995   \n",
       "3   -0.378883  0.576979 -0.581408       0.357024       0.788847   \n",
       "4    0.297577 -0.326079  0.338821       0.055969       0.667394   \n",
       "..        ...       ...       ...            ...            ...   \n",
       "148 -1.340331 -2.178113 -0.734780      -1.783806      -1.609843   \n",
       "149 -0.919913 -1.091382 -1.041523      -0.010932      -0.243501   \n",
       "150  0.968523  0.148409 -0.734780      -0.077832       0.120857   \n",
       "151  1.273154  1.495342 -1.194895       1.795393       1.760468   \n",
       "152 -0.440568 -0.004652  1.028993      -0.546139      -0.516769   \n",
       "\n",
       "     per_antebrazo  per_torax  per_cintura  per_cadera  per_muslo_max  ...  \\\n",
       "0        -0.791100  -0.661568    -1.015423   -1.182268      -1.117874  ...   \n",
       "1        -1.668563  -2.015216    -1.005378   -0.498441      -1.117874  ...   \n",
       "2         2.718753   1.299323     1.355101    1.642233       2.023883  ...   \n",
       "3         0.757365   0.413759     0.551533    0.675956       0.750198  ...   \n",
       "4         0.602518  -0.092277    -0.000919   -0.394381      -0.948049  ...   \n",
       "..             ...        ...          ...         ...            ...  ...   \n",
       "148      -1.823410  -2.154376    -2.150461   -2.371532      -2.285419  ...   \n",
       "149      -0.326561  -0.408550    -0.854709   -1.122805      -0.948049  ...   \n",
       "150       0.137979   0.666777     0.551533   -0.290320      -0.098926  ...   \n",
       "151       1.531597   1.742105     2.048177    1.478709       1.068619  ...   \n",
       "152      -0.481407  -0.079626    -0.704040   -0.275454       0.240724  ...   \n",
       "\n",
       "      talla_2  per_brazo_rel_2  per_brazo_ten_2  per_antebrazo_2  per_torax_2  \\\n",
       "0    1.084770         0.060067         0.133191         0.625839     0.437672   \n",
       "1    0.416753         2.298869         4.018279         2.784104     4.061094   \n",
       "2    2.030488         9.818270         8.850597         7.391618     1.688240   \n",
       "3    0.338036         0.127466         0.622280         0.573601     0.171197   \n",
       "4    0.114800         0.003133         0.445415         0.363028     0.008515   \n",
       "..        ...              ...              ...              ...          ...   \n",
       "148  0.539902         3.181964         2.591596         3.324824     4.641334   \n",
       "149  1.084770         0.000119         0.059293         0.106642     0.166913   \n",
       "150  0.539902         0.006058         0.014606         0.019038     0.444592   \n",
       "151  1.427773         3.223437         3.099249         2.345789     3.034929   \n",
       "152  1.058826         0.298268         0.267050         0.231753     0.006340   \n",
       "\n",
       "     per_cintura_2  per_cadera_2  per_muslo_max_2  per_muslo_medial_2  \\\n",
       "0     1.031083e+00      1.397758         1.249642            2.356687   \n",
       "1     1.010785e+00      0.248444         1.249642            2.022671   \n",
       "2     1.836298e+00      2.696930         4.096102            4.136647   \n",
       "3     3.041890e-01      0.456917         0.562797            0.401159   \n",
       "4     8.447684e-07      0.155536         0.898797            0.269004   \n",
       "..             ...           ...              ...                 ...   \n",
       "148   4.624484e+00      5.624162         5.223138            6.861315   \n",
       "149   7.305279e-01      1.260691         0.898797            0.814804   \n",
       "150   3.041890e-01      0.084286         0.009786            0.062182   \n",
       "151   4.195030e+00      2.186581         1.141947            0.989610   \n",
       "152   4.956729e-01      0.075875         0.057948            0.004713   \n",
       "\n",
       "     per_pantorrilla_2  \n",
       "0             1.499021  \n",
       "1             0.110752  \n",
       "2             2.827279  \n",
       "3             2.200264  \n",
       "4             0.580735  \n",
       "..                 ...  \n",
       "148           7.707868  \n",
       "149           1.341669  \n",
       "150           0.000007  \n",
       "151           2.400546  \n",
       "152           0.110752  \n",
       "\n",
       "[153 rows x 29 columns]"
      ]
     },
     "execution_count": 4,
     "metadata": {},
     "output_type": "execute_result"
    }
   ],
   "source": [
    "data_m"
   ]
  },
  {
   "cell_type": "code",
   "execution_count": null,
   "metadata": {},
   "outputs": [],
   "source": []
  },
  {
   "cell_type": "markdown",
   "metadata": {},
   "source": [
    "## Model"
   ]
  },
  {
   "cell_type": "code",
   "execution_count": 5,
   "metadata": {},
   "outputs": [],
   "source": [
    "x_columns = data_m.columns.drop(['masa_piel', 'masa_adiposa', 'masa_muscular', 'masa_residual',\n",
    "       'masa_osea'])\n",
    "y_columns = ['masa_piel', 'masa_adiposa', 'masa_muscular', 'masa_residual',\n",
    "       'masa_osea']\n",
    "\n",
    "X_m = data_m[x_columns].values\n",
    "y_m = data_m[y_columns].values\n",
    "\n",
    "X_f = data_f[x_columns].values\n",
    "y_f = data_f[y_columns].values\n"
   ]
  },
  {
   "cell_type": "code",
   "execution_count": 6,
   "metadata": {},
   "outputs": [
    {
     "data": {
      "text/plain": [
       "Index(['edad', 'peso', 'talla', 'per_brazo_rel', 'per_brazo_ten',\n",
       "       'per_antebrazo', 'per_torax', 'per_cintura', 'per_cadera',\n",
       "       'per_muslo_max', 'per_muslo_medial', 'per_pantorrilla', 'edad_2',\n",
       "       'peso_2', 'talla_2', 'per_brazo_rel_2', 'per_brazo_ten_2',\n",
       "       'per_antebrazo_2', 'per_torax_2', 'per_cintura_2', 'per_cadera_2',\n",
       "       'per_muslo_max_2', 'per_muslo_medial_2', 'per_pantorrilla_2'],\n",
       "      dtype='object')"
      ]
     },
     "execution_count": 6,
     "metadata": {},
     "output_type": "execute_result"
    }
   ],
   "source": [
    "x_columns"
   ]
  },
  {
   "cell_type": "markdown",
   "metadata": {},
   "source": [
    "## split data "
   ]
  },
  {
   "cell_type": "code",
   "execution_count": 7,
   "metadata": {},
   "outputs": [],
   "source": [
    "# Create train/test\n",
    "x_train_m, x_test_m, y_train_m, y_test_m = train_test_split(    \n",
    "    X_m, y_m, test_size=0.3, random_state=5)\n",
    "\n",
    "x_train_f, x_test_f, y_train_f, y_test_f = train_test_split(    \n",
    "    X_f, y_f, test_size=0.3, random_state=5)"
   ]
  },
  {
   "cell_type": "code",
   "execution_count": null,
   "metadata": {},
   "outputs": [],
   "source": []
  },
  {
   "cell_type": "markdown",
   "metadata": {},
   "source": [
    "## Model"
   ]
  },
  {
   "cell_type": "markdown",
   "metadata": {},
   "source": [
    "### Masc"
   ]
  },
  {
   "cell_type": "code",
   "execution_count": 8,
   "metadata": {},
   "outputs": [
    {
     "name": "stdout",
     "output_type": "stream",
     "text": [
      "masa_piel  R2 = 1.0 and MAE = 0.01\n",
      "---------------------------------\n",
      "masa_adiposa  R2 = 0.787 and MAE = 0.359\n",
      "---------------------------------\n",
      "masa_muscular  R2 = 0.947 and MAE = 0.19\n",
      "---------------------------------\n",
      "masa_residual  R2 = 0.959 and MAE = 0.152\n",
      "---------------------------------\n",
      "masa_osea  R2 = 0.866 and MAE = 0.286\n",
      "---------------------------------\n",
      "=================================\n",
      "R2 prom = 0.9118780325720286\n",
      "MAE prom = 0.19916762999331633\n"
     ]
    }
   ],
   "source": [
    "R2s = []\n",
    "MAEs = []\n",
    "model = Ridge(alpha=0.1)\n",
    "for index,target in enumerate(y_columns):\n",
    "    model.fit(x_train_m,y_train_m[:,index])\n",
    "\n",
    "    y_pred = model.predict(x_test_m)\n",
    "    R2 = r2_score(y_test_m[:,index],y_pred)\n",
    "    MAE = mean_absolute_error(y_test_m[:,index],y_pred)\n",
    "    MSE = mean_squared_error(y_test_m[:,index],y_pred)\n",
    "    R2s.append(R2)\n",
    "    MAEs.append(MAE)\n",
    "\n",
    "    print(f'{target}  R2 = {round(R2,3)} and MAE = {round(MAE,3)}')\n",
    "    print('-'*33)\n",
    "print('='*33)\n",
    "print(f'R2 prom = {np.mean(R2s)}')\n",
    "print(f'MAE prom = {np.mean(MAEs)}')"
   ]
  },
  {
   "cell_type": "markdown",
   "metadata": {},
   "source": [
    "### Fem"
   ]
  },
  {
   "cell_type": "code",
   "execution_count": 9,
   "metadata": {},
   "outputs": [
    {
     "name": "stdout",
     "output_type": "stream",
     "text": [
      "masa_piel  R2 = 1.0 and MAE = 0.011\n",
      "---------------------------------\n",
      "masa_adiposa  R2 = 0.594 and MAE = 0.375\n",
      "---------------------------------\n",
      "masa_muscular  R2 = 0.726 and MAE = 0.392\n",
      "---------------------------------\n",
      "masa_residual  R2 = 0.938 and MAE = 0.184\n",
      "---------------------------------\n",
      "masa_osea  R2 = 0.859 and MAE = 0.298\n",
      "---------------------------------\n",
      "=================================\n",
      "R2 prom = 0.8232855193920485\n",
      "MAE prom = 0.2521105204908633\n"
     ]
    }
   ],
   "source": [
    "R2s = []\n",
    "MAEs = []\n",
    "for index,target in enumerate(y_columns):\n",
    "    model = Ridge(alpha=0.1)\n",
    "\n",
    "    model.fit(x_train_f,y_train_f[:,index])\n",
    "\n",
    "    y_pred = model.predict(x_test_f)\n",
    "    R2 = r2_score(y_test_f[:,index],y_pred)\n",
    "    MAE = mean_absolute_error(y_test_f[:,index],y_pred)\n",
    "    MSE = mean_squared_error(y_test_f[:,index],y_pred)\n",
    "    R2s.append(R2)\n",
    "    MAEs.append(MAE)\n",
    "\n",
    "    print(f'{target}  R2 = {round(R2,3)} and MAE = {round(MAE,3)}')\n",
    "    print('-'*33)\n",
    "print('='*33)\n",
    "print(f'R2 prom = {np.mean(R2s)}')\n",
    "print(f'MAE prom = {np.mean(MAEs)}')"
   ]
  },
  {
   "cell_type": "markdown",
   "metadata": {},
   "source": [
    "## Using CV"
   ]
  },
  {
   "cell_type": "markdown",
   "metadata": {},
   "source": [
    "### masc"
   ]
  },
  {
   "cell_type": "code",
   "execution_count": 10,
   "metadata": {},
   "outputs": [
    {
     "name": "stdout",
     "output_type": "stream",
     "text": [
      "masa_piel\n",
      "[0.99985351 0.99962682 0.99925724 0.99934804 0.99972548 0.99992294]\n",
      "0.9996223366100111\n",
      "0.00024596843602790156\n",
      "masa_adiposa\n",
      "[ 0.58010509  0.75394963 -0.28679919  0.71722719  0.85377587  0.75358894]\n",
      "0.5619745904888488\n",
      "0.3880651734492353\n",
      "masa_muscular\n",
      "[0.86987199 0.90891747 0.87842746 0.86380966 0.94113251 0.91973736]\n",
      "0.8969827400677683\n",
      "0.02825230766249197\n",
      "masa_residual\n",
      "[0.77134164 0.84335122 0.81722857 0.93827593 0.94399342 0.94937669]\n",
      "0.8772612453460149\n",
      "0.06993971900547315\n",
      "masa_osea\n",
      "[0.50638928 0.71520195 0.24082488 0.74943776 0.69946657 0.73446557]\n",
      "0.6076310016153799\n",
      "0.18302916811076958\n"
     ]
    }
   ],
   "source": [
    "for index,target in enumerate(y_columns):\n",
    "    model = Ridge(alpha=0.1)\n",
    "    scores = cross_val_score(model, x_train_m,y_train_m[:,index], cv=6)\n",
    "    print(target)\n",
    "    print(scores)\n",
    "    print(scores.mean())\n",
    "    print(scores.std())"
   ]
  },
  {
   "cell_type": "markdown",
   "metadata": {},
   "source": [
    "### fem"
   ]
  },
  {
   "cell_type": "code",
   "execution_count": 11,
   "metadata": {},
   "outputs": [
    {
     "name": "stdout",
     "output_type": "stream",
     "text": [
      "masa_piel\n",
      "[0.99967571 0.99978811 0.99951162 0.999661   0.99976133]\n",
      "0.999679554937311\n",
      "9.698899962338387e-05\n",
      "masa_adiposa\n",
      "[0.75578971 0.33867816 0.49819732 0.69668054 0.63997132]\n",
      "0.58586340921351\n",
      "0.1502457578491544\n",
      "masa_muscular\n",
      "[0.73594356 0.39076151 0.58077597 0.83908218 0.46021069]\n",
      "0.6013547838911081\n",
      "0.16692700521018203\n",
      "masa_residual\n",
      "[0.83856871 0.76851121 0.88832167 0.92476745 0.77956644]\n",
      "0.8399470960002808\n",
      "0.06047379707087269\n",
      "masa_osea\n",
      "[0.63504684 0.81327582 0.77566329 0.63202655 0.85828081]\n",
      "0.7428586610928093\n",
      "0.0930205758387678\n"
     ]
    }
   ],
   "source": [
    "for index,target in enumerate(y_columns):\n",
    "    model = Ridge(alpha=0.1)\n",
    "    scores = cross_val_score(model, x_train_f,y_train_f[:,index], cv=5)\n",
    "    print(target)\n",
    "    print(scores)\n",
    "    print(scores.mean())\n",
    "    print(scores.std())"
   ]
  },
  {
   "cell_type": "markdown",
   "metadata": {},
   "source": [
    "## Using Grid Search CV"
   ]
  },
  {
   "cell_type": "code",
   "execution_count": 12,
   "metadata": {},
   "outputs": [],
   "source": [
    "grid_param = {\n",
    "    'alpha': [0.01,0.03,0.1,0.3,1,3,10]\n",
    "}"
   ]
  },
  {
   "cell_type": "markdown",
   "metadata": {},
   "source": [
    "### masc"
   ]
  },
  {
   "cell_type": "code",
   "execution_count": 13,
   "metadata": {},
   "outputs": [
    {
     "name": "stdout",
     "output_type": "stream",
     "text": [
      "masa_piel\n",
      "Best R2: 0.9998061991207355\n",
      "{'alpha': 0.01}\n",
      "---------------------------------\n",
      "masa_adiposa\n",
      "Best R2: 0.6560832386775266\n",
      "{'alpha': 0.01}\n",
      "---------------------------------\n",
      "masa_muscular\n",
      "Best R2: 0.8960811366932722\n",
      "{'alpha': 1}\n",
      "---------------------------------\n",
      "masa_residual\n",
      "Best R2: 0.8849803428809038\n",
      "{'alpha': 10}\n",
      "---------------------------------\n",
      "masa_osea\n",
      "Best R2: 0.6953534265539779\n",
      "{'alpha': 10}\n",
      "---------------------------------\n"
     ]
    }
   ],
   "source": [
    "model = Ridge()\n",
    "for index,target in enumerate(y_columns):\n",
    "    gd_sr = GridSearchCV(estimator=model,\n",
    "                        param_grid=grid_param,\n",
    "                        scoring='r2',\n",
    "                        cv=7,\n",
    "                        n_jobs=-1)\n",
    "    gd_sr.fit(x_train_m,y_train_m[:,index])\n",
    "    best_parameters = gd_sr.best_params_\n",
    "    print(target)\n",
    "    print(f'Best R2: {gd_sr.best_score_}')\n",
    "    print(best_parameters)\n",
    "    print('-'*33)\n"
   ]
  },
  {
   "cell_type": "markdown",
   "metadata": {},
   "source": [
    "### fem"
   ]
  },
  {
   "cell_type": "code",
   "execution_count": 14,
   "metadata": {},
   "outputs": [
    {
     "name": "stdout",
     "output_type": "stream",
     "text": [
      "masa_piel\n",
      "Best R2: 0.9997842835232278\n",
      "{'alpha': 0.01}\n",
      "---------------------------------\n",
      "masa_adiposa\n",
      "Best R2: 0.6701436872875889\n",
      "{'alpha': 10}\n",
      "---------------------------------\n",
      "masa_muscular\n",
      "Best R2: 0.7139120795980965\n",
      "{'alpha': 3}\n",
      "---------------------------------\n",
      "masa_residual\n",
      "Best R2: 0.8461106892387547\n",
      "{'alpha': 3}\n",
      "---------------------------------\n",
      "masa_osea\n",
      "Best R2: 0.7891098399572625\n",
      "{'alpha': 10}\n",
      "---------------------------------\n"
     ]
    }
   ],
   "source": [
    "model = Ridge()\n",
    "for index,target in enumerate(y_columns):\n",
    "    gd_sr = GridSearchCV(estimator=model,\n",
    "                        param_grid=grid_param,\n",
    "                        scoring='r2',\n",
    "                        cv=7,\n",
    "                        n_jobs=-1)\n",
    "    gd_sr.fit(x_train_f,y_train_f[:,index])\n",
    "    best_parameters = gd_sr.best_params_\n",
    "    print(target)\n",
    "    print(f'Best R2: {gd_sr.best_score_}')\n",
    "    print(best_parameters)\n",
    "    print('-'*33)\n"
   ]
  },
  {
   "cell_type": "code",
   "execution_count": null,
   "metadata": {},
   "outputs": [],
   "source": []
  },
  {
   "cell_type": "code",
   "execution_count": null,
   "metadata": {},
   "outputs": [],
   "source": []
  },
  {
   "cell_type": "code",
   "execution_count": null,
   "metadata": {},
   "outputs": [],
   "source": []
  }
 ],
 "metadata": {
  "interpreter": {
   "hash": "b77c1dbbb534ea8aacf2fc1d7aa822e0c19c32e78787c1d58af96714d27ca774"
  },
  "kernelspec": {
   "display_name": "Python 3.9.7 ('tf')",
   "language": "python",
   "name": "python3"
  },
  "language_info": {
   "codemirror_mode": {
    "name": "ipython",
    "version": 3
   },
   "file_extension": ".py",
   "mimetype": "text/x-python",
   "name": "python",
   "nbconvert_exporter": "python",
   "pygments_lexer": "ipython3",
   "version": "3.9.12"
  },
  "orig_nbformat": 4
 },
 "nbformat": 4,
 "nbformat_minor": 2
}
