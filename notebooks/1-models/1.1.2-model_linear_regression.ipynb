{
 "cells": [
  {
   "cell_type": "markdown",
   "metadata": {},
   "source": [
    "# Model selection"
   ]
  },
  {
   "cell_type": "markdown",
   "metadata": {},
   "source": [
    "## Libraries"
   ]
  },
  {
   "cell_type": "code",
   "execution_count": 24,
   "metadata": {},
   "outputs": [],
   "source": [
    "import pandas as pd\n",
    "import matplotlib.pyplot as plt\n",
    "import seaborn as sns\n",
    "import numpy as np\n",
    "\n",
    "\n",
    "\n",
    "from sklearn.model_selection import train_test_split\n",
    "from sklearn.metrics import accuracy_score,r2_score,mean_squared_error,mean_absolute_error\n",
    "from sklearn.preprocessing import StandardScaler\n",
    "from sklearn.model_selection import cross_val_score, GridSearchCV\n",
    "\n",
    "from sklearn.linear_model import LinearRegression, Ridge\n",
    "from sklearn.svm import SVR\n",
    "from sklearn.ensemble import GradientBoostingRegressor\n",
    "from xgboost import XGBRegressor"
   ]
  },
  {
   "cell_type": "markdown",
   "metadata": {},
   "source": [
    "## Load data"
   ]
  },
  {
   "cell_type": "code",
   "execution_count": 25,
   "metadata": {},
   "outputs": [],
   "source": [
    "# leer data\n",
    "data_m = pd.read_csv('../../data/processed/data_m_v2.csv')\n",
    "data_f = pd.read_csv('../../data/processed/data_f_v2.csv')\n"
   ]
  },
  {
   "cell_type": "code",
   "execution_count": 26,
   "metadata": {},
   "outputs": [
    {
     "data": {
      "text/html": [
       "<div>\n",
       "<style scoped>\n",
       "    .dataframe tbody tr th:only-of-type {\n",
       "        vertical-align: middle;\n",
       "    }\n",
       "\n",
       "    .dataframe tbody tr th {\n",
       "        vertical-align: top;\n",
       "    }\n",
       "\n",
       "    .dataframe thead th {\n",
       "        text-align: right;\n",
       "    }\n",
       "</style>\n",
       "<table border=\"1\" class=\"dataframe\">\n",
       "  <thead>\n",
       "    <tr style=\"text-align: right;\">\n",
       "      <th></th>\n",
       "      <th>edad</th>\n",
       "      <th>peso</th>\n",
       "      <th>talla</th>\n",
       "      <th>per_brazo_rel</th>\n",
       "      <th>per_brazo_ten</th>\n",
       "      <th>per_antebrazo</th>\n",
       "      <th>per_torax</th>\n",
       "      <th>per_cintura</th>\n",
       "      <th>per_cadera</th>\n",
       "      <th>per_muslo_max</th>\n",
       "      <th>per_muslo_medial</th>\n",
       "      <th>per_pantorrilla</th>\n",
       "      <th>masa_piel</th>\n",
       "      <th>masa_adiposa</th>\n",
       "      <th>masa_muscular</th>\n",
       "      <th>masa_residual</th>\n",
       "      <th>masa_osea</th>\n",
       "      <th>peso_porcentaje</th>\n",
       "    </tr>\n",
       "  </thead>\n",
       "  <tbody>\n",
       "    <tr>\n",
       "      <th>0</th>\n",
       "      <td>-1.036390</td>\n",
       "      <td>-1.129647</td>\n",
       "      <td>-1.041523</td>\n",
       "      <td>-0.245085</td>\n",
       "      <td>-0.364953</td>\n",
       "      <td>-0.791100</td>\n",
       "      <td>-0.661568</td>\n",
       "      <td>-1.015423</td>\n",
       "      <td>-1.182268</td>\n",
       "      <td>-1.117874</td>\n",
       "      <td>-1.535150</td>\n",
       "      <td>-1.224345</td>\n",
       "      <td>0.052860</td>\n",
       "      <td>0.253409</td>\n",
       "      <td>0.478151</td>\n",
       "      <td>0.105383</td>\n",
       "      <td>0.110197</td>\n",
       "      <td>1.016963</td>\n",
       "    </tr>\n",
       "    <tr>\n",
       "      <th>1</th>\n",
       "      <td>-0.425749</td>\n",
       "      <td>-1.106688</td>\n",
       "      <td>0.645564</td>\n",
       "      <td>-1.516202</td>\n",
       "      <td>-2.004565</td>\n",
       "      <td>-1.668563</td>\n",
       "      <td>-2.015216</td>\n",
       "      <td>-1.005378</td>\n",
       "      <td>-0.498441</td>\n",
       "      <td>-1.117874</td>\n",
       "      <td>-1.422207</td>\n",
       "      <td>-0.332794</td>\n",
       "      <td>0.054644</td>\n",
       "      <td>0.352585</td>\n",
       "      <td>0.367398</td>\n",
       "      <td>0.092668</td>\n",
       "      <td>0.132705</td>\n",
       "      <td>1.028239</td>\n",
       "    </tr>\n",
       "    <tr>\n",
       "      <th>2</th>\n",
       "      <td>0.033609</td>\n",
       "      <td>1.495342</td>\n",
       "      <td>-1.424952</td>\n",
       "      <td>3.133412</td>\n",
       "      <td>2.974995</td>\n",
       "      <td>2.718753</td>\n",
       "      <td>1.299323</td>\n",
       "      <td>1.355101</td>\n",
       "      <td>1.642233</td>\n",
       "      <td>2.023883</td>\n",
       "      <td>2.033875</td>\n",
       "      <td>1.681451</td>\n",
       "      <td>0.039291</td>\n",
       "      <td>0.366312</td>\n",
       "      <td>0.388463</td>\n",
       "      <td>0.107386</td>\n",
       "      <td>0.098548</td>\n",
       "      <td>1.065902</td>\n",
       "    </tr>\n",
       "    <tr>\n",
       "      <th>3</th>\n",
       "      <td>-0.378883</td>\n",
       "      <td>0.576979</td>\n",
       "      <td>-0.581408</td>\n",
       "      <td>0.357024</td>\n",
       "      <td>0.788847</td>\n",
       "      <td>0.757365</td>\n",
       "      <td>0.413759</td>\n",
       "      <td>0.551533</td>\n",
       "      <td>0.675956</td>\n",
       "      <td>0.750198</td>\n",
       "      <td>0.633371</td>\n",
       "      <td>1.483329</td>\n",
       "      <td>0.044419</td>\n",
       "      <td>0.311746</td>\n",
       "      <td>0.418139</td>\n",
       "      <td>0.109605</td>\n",
       "      <td>0.116092</td>\n",
       "      <td>1.038759</td>\n",
       "    </tr>\n",
       "    <tr>\n",
       "      <th>4</th>\n",
       "      <td>0.297577</td>\n",
       "      <td>-0.326079</td>\n",
       "      <td>0.338821</td>\n",
       "      <td>0.055969</td>\n",
       "      <td>0.667394</td>\n",
       "      <td>0.602518</td>\n",
       "      <td>-0.092277</td>\n",
       "      <td>-0.000919</td>\n",
       "      <td>-0.394381</td>\n",
       "      <td>-0.948049</td>\n",
       "      <td>-0.518656</td>\n",
       "      <td>-0.762059</td>\n",
       "      <td>0.050664</td>\n",
       "      <td>0.228280</td>\n",
       "      <td>0.482941</td>\n",
       "      <td>0.125027</td>\n",
       "      <td>0.113088</td>\n",
       "      <td>1.013803</td>\n",
       "    </tr>\n",
       "    <tr>\n",
       "      <th>...</th>\n",
       "      <td>...</td>\n",
       "      <td>...</td>\n",
       "      <td>...</td>\n",
       "      <td>...</td>\n",
       "      <td>...</td>\n",
       "      <td>...</td>\n",
       "      <td>...</td>\n",
       "      <td>...</td>\n",
       "      <td>...</td>\n",
       "      <td>...</td>\n",
       "      <td>...</td>\n",
       "      <td>...</td>\n",
       "      <td>...</td>\n",
       "      <td>...</td>\n",
       "      <td>...</td>\n",
       "      <td>...</td>\n",
       "      <td>...</td>\n",
       "      <td>...</td>\n",
       "    </tr>\n",
       "    <tr>\n",
       "      <th>148</th>\n",
       "      <td>-1.340331</td>\n",
       "      <td>-2.178113</td>\n",
       "      <td>-0.734780</td>\n",
       "      <td>-1.783806</td>\n",
       "      <td>-1.609843</td>\n",
       "      <td>-1.823410</td>\n",
       "      <td>-2.154376</td>\n",
       "      <td>-2.150461</td>\n",
       "      <td>-2.371532</td>\n",
       "      <td>-2.285419</td>\n",
       "      <td>-2.619411</td>\n",
       "      <td>-2.776305</td>\n",
       "      <td>0.063539</td>\n",
       "      <td>0.240454</td>\n",
       "      <td>0.450196</td>\n",
       "      <td>0.104182</td>\n",
       "      <td>0.141629</td>\n",
       "      <td>0.974093</td>\n",
       "    </tr>\n",
       "    <tr>\n",
       "      <th>149</th>\n",
       "      <td>-0.919913</td>\n",
       "      <td>-1.091382</td>\n",
       "      <td>-1.041523</td>\n",
       "      <td>-0.010932</td>\n",
       "      <td>-0.243501</td>\n",
       "      <td>-0.326561</td>\n",
       "      <td>-0.408550</td>\n",
       "      <td>-0.854709</td>\n",
       "      <td>-1.122805</td>\n",
       "      <td>-0.948049</td>\n",
       "      <td>-0.902665</td>\n",
       "      <td>-1.158304</td>\n",
       "      <td>0.051798</td>\n",
       "      <td>0.237287</td>\n",
       "      <td>0.494874</td>\n",
       "      <td>0.108401</td>\n",
       "      <td>0.107640</td>\n",
       "      <td>1.033369</td>\n",
       "    </tr>\n",
       "    <tr>\n",
       "      <th>150</th>\n",
       "      <td>0.968523</td>\n",
       "      <td>0.148409</td>\n",
       "      <td>-0.734780</td>\n",
       "      <td>-0.077832</td>\n",
       "      <td>0.120857</td>\n",
       "      <td>0.137979</td>\n",
       "      <td>0.666777</td>\n",
       "      <td>0.551533</td>\n",
       "      <td>-0.290320</td>\n",
       "      <td>-0.098926</td>\n",
       "      <td>0.249362</td>\n",
       "      <td>-0.002590</td>\n",
       "      <td>0.048524</td>\n",
       "      <td>0.204786</td>\n",
       "      <td>0.502350</td>\n",
       "      <td>0.130972</td>\n",
       "      <td>0.113367</td>\n",
       "      <td>0.982827</td>\n",
       "    </tr>\n",
       "    <tr>\n",
       "      <th>151</th>\n",
       "      <td>1.273154</td>\n",
       "      <td>1.495342</td>\n",
       "      <td>-1.194895</td>\n",
       "      <td>1.795393</td>\n",
       "      <td>1.760468</td>\n",
       "      <td>1.531597</td>\n",
       "      <td>1.742105</td>\n",
       "      <td>2.048177</td>\n",
       "      <td>1.478709</td>\n",
       "      <td>1.068619</td>\n",
       "      <td>0.994792</td>\n",
       "      <td>1.549370</td>\n",
       "      <td>0.041431</td>\n",
       "      <td>0.290252</td>\n",
       "      <td>0.429413</td>\n",
       "      <td>0.127518</td>\n",
       "      <td>0.111386</td>\n",
       "      <td>1.017612</td>\n",
       "    </tr>\n",
       "    <tr>\n",
       "      <th>152</th>\n",
       "      <td>-0.440568</td>\n",
       "      <td>-0.004652</td>\n",
       "      <td>1.028993</td>\n",
       "      <td>-0.546139</td>\n",
       "      <td>-0.516769</td>\n",
       "      <td>-0.481407</td>\n",
       "      <td>-0.079626</td>\n",
       "      <td>-0.704040</td>\n",
       "      <td>-0.275454</td>\n",
       "      <td>0.240724</td>\n",
       "      <td>0.068652</td>\n",
       "      <td>-0.332794</td>\n",
       "      <td>0.050835</td>\n",
       "      <td>0.251732</td>\n",
       "      <td>0.478895</td>\n",
       "      <td>0.105863</td>\n",
       "      <td>0.112675</td>\n",
       "      <td>0.998378</td>\n",
       "    </tr>\n",
       "  </tbody>\n",
       "</table>\n",
       "<p>153 rows × 18 columns</p>\n",
       "</div>"
      ],
      "text/plain": [
       "         edad      peso     talla  per_brazo_rel  per_brazo_ten  \\\n",
       "0   -1.036390 -1.129647 -1.041523      -0.245085      -0.364953   \n",
       "1   -0.425749 -1.106688  0.645564      -1.516202      -2.004565   \n",
       "2    0.033609  1.495342 -1.424952       3.133412       2.974995   \n",
       "3   -0.378883  0.576979 -0.581408       0.357024       0.788847   \n",
       "4    0.297577 -0.326079  0.338821       0.055969       0.667394   \n",
       "..        ...       ...       ...            ...            ...   \n",
       "148 -1.340331 -2.178113 -0.734780      -1.783806      -1.609843   \n",
       "149 -0.919913 -1.091382 -1.041523      -0.010932      -0.243501   \n",
       "150  0.968523  0.148409 -0.734780      -0.077832       0.120857   \n",
       "151  1.273154  1.495342 -1.194895       1.795393       1.760468   \n",
       "152 -0.440568 -0.004652  1.028993      -0.546139      -0.516769   \n",
       "\n",
       "     per_antebrazo  per_torax  per_cintura  per_cadera  per_muslo_max  \\\n",
       "0        -0.791100  -0.661568    -1.015423   -1.182268      -1.117874   \n",
       "1        -1.668563  -2.015216    -1.005378   -0.498441      -1.117874   \n",
       "2         2.718753   1.299323     1.355101    1.642233       2.023883   \n",
       "3         0.757365   0.413759     0.551533    0.675956       0.750198   \n",
       "4         0.602518  -0.092277    -0.000919   -0.394381      -0.948049   \n",
       "..             ...        ...          ...         ...            ...   \n",
       "148      -1.823410  -2.154376    -2.150461   -2.371532      -2.285419   \n",
       "149      -0.326561  -0.408550    -0.854709   -1.122805      -0.948049   \n",
       "150       0.137979   0.666777     0.551533   -0.290320      -0.098926   \n",
       "151       1.531597   1.742105     2.048177    1.478709       1.068619   \n",
       "152      -0.481407  -0.079626    -0.704040   -0.275454       0.240724   \n",
       "\n",
       "     per_muslo_medial  per_pantorrilla  masa_piel  masa_adiposa  \\\n",
       "0           -1.535150        -1.224345   0.052860      0.253409   \n",
       "1           -1.422207        -0.332794   0.054644      0.352585   \n",
       "2            2.033875         1.681451   0.039291      0.366312   \n",
       "3            0.633371         1.483329   0.044419      0.311746   \n",
       "4           -0.518656        -0.762059   0.050664      0.228280   \n",
       "..                ...              ...        ...           ...   \n",
       "148         -2.619411        -2.776305   0.063539      0.240454   \n",
       "149         -0.902665        -1.158304   0.051798      0.237287   \n",
       "150          0.249362        -0.002590   0.048524      0.204786   \n",
       "151          0.994792         1.549370   0.041431      0.290252   \n",
       "152          0.068652        -0.332794   0.050835      0.251732   \n",
       "\n",
       "     masa_muscular  masa_residual  masa_osea  peso_porcentaje  \n",
       "0         0.478151       0.105383   0.110197         1.016963  \n",
       "1         0.367398       0.092668   0.132705         1.028239  \n",
       "2         0.388463       0.107386   0.098548         1.065902  \n",
       "3         0.418139       0.109605   0.116092         1.038759  \n",
       "4         0.482941       0.125027   0.113088         1.013803  \n",
       "..             ...            ...        ...              ...  \n",
       "148       0.450196       0.104182   0.141629         0.974093  \n",
       "149       0.494874       0.108401   0.107640         1.033369  \n",
       "150       0.502350       0.130972   0.113367         0.982827  \n",
       "151       0.429413       0.127518   0.111386         1.017612  \n",
       "152       0.478895       0.105863   0.112675         0.998378  \n",
       "\n",
       "[153 rows x 18 columns]"
      ]
     },
     "execution_count": 26,
     "metadata": {},
     "output_type": "execute_result"
    }
   ],
   "source": [
    "data_m"
   ]
  },
  {
   "cell_type": "code",
   "execution_count": null,
   "metadata": {},
   "outputs": [],
   "source": []
  },
  {
   "cell_type": "markdown",
   "metadata": {},
   "source": [
    "## Model"
   ]
  },
  {
   "cell_type": "code",
   "execution_count": 27,
   "metadata": {},
   "outputs": [],
   "source": [
    "x_columns = data_m.columns.drop(['masa_piel', 'masa_adiposa', 'masa_muscular', 'masa_residual',\n",
    "       'masa_osea','peso_porcentaje'])\n",
    "y_columns = ['masa_piel', 'masa_adiposa', 'masa_muscular', 'masa_residual',\n",
    "       'masa_osea']\n",
    "\n",
    "X_m = data_m[x_columns].values\n",
    "y_m = data_m[y_columns].values\n",
    "\n",
    "X_f = data_f[x_columns].values\n",
    "y_f = data_f[y_columns].values\n"
   ]
  },
  {
   "cell_type": "code",
   "execution_count": 28,
   "metadata": {},
   "outputs": [
    {
     "data": {
      "text/plain": [
       "Index(['edad', 'peso', 'talla', 'per_brazo_rel', 'per_brazo_ten',\n",
       "       'per_antebrazo', 'per_torax', 'per_cintura', 'per_cadera',\n",
       "       'per_muslo_max', 'per_muslo_medial', 'per_pantorrilla'],\n",
       "      dtype='object')"
      ]
     },
     "execution_count": 28,
     "metadata": {},
     "output_type": "execute_result"
    }
   ],
   "source": [
    "x_columns"
   ]
  },
  {
   "cell_type": "markdown",
   "metadata": {},
   "source": [
    "## split data "
   ]
  },
  {
   "cell_type": "code",
   "execution_count": 29,
   "metadata": {},
   "outputs": [],
   "source": [
    "# Create train/test\n",
    "x_train_m, x_test_m, y_train_m, y_test_m = train_test_split(    \n",
    "    X_m, y_m, test_size=0.25, random_state=42)\n",
    "\n",
    "x_train_f, x_test_f, y_train_f, y_test_f = train_test_split(    \n",
    "    X_f, y_f, test_size=0.25, random_state=42)"
   ]
  },
  {
   "cell_type": "code",
   "execution_count": null,
   "metadata": {},
   "outputs": [],
   "source": []
  },
  {
   "cell_type": "markdown",
   "metadata": {},
   "source": [
    "## Model"
   ]
  },
  {
   "cell_type": "markdown",
   "metadata": {},
   "source": [
    "### Masc"
   ]
  },
  {
   "cell_type": "code",
   "execution_count": 30,
   "metadata": {},
   "outputs": [
    {
     "name": "stdout",
     "output_type": "stream",
     "text": [
      "masa_piel  R2 = 0.894 and MAE = 0.001\n",
      "---------------------------------\n",
      "masa_adiposa  R2 = 0.544 and MAE = 0.029\n",
      "---------------------------------\n",
      "masa_muscular  R2 = 0.527 and MAE = 0.024\n",
      "---------------------------------\n",
      "masa_residual  R2 = 0.475 and MAE = 0.006\n",
      "---------------------------------\n",
      "masa_osea  R2 = 0.574 and MAE = 0.005\n",
      "---------------------------------\n",
      "=================================\n",
      "R2 prom = 0.6029436767288685\n",
      "MAE prom = 0.012970888224561638\n"
     ]
    }
   ],
   "source": [
    "R2s = []\n",
    "MAEs = []\n",
    "model = Ridge(alpha=0.1)\n",
    "for index,target in enumerate(y_columns):\n",
    "    model.fit(x_train_m,y_train_m[:,index])\n",
    "\n",
    "    y_pred = model.predict(x_test_m)\n",
    "    R2 = r2_score(y_test_m[:,index],y_pred)\n",
    "    MAE = mean_absolute_error(y_test_m[:,index],y_pred)\n",
    "    MSE = mean_squared_error(y_test_m[:,index],y_pred)\n",
    "    R2s.append(R2)\n",
    "    MAEs.append(MAE)\n",
    "\n",
    "    print(f'{target}  R2 = {round(R2,3)} and MAE = {round(MAE,3)}')\n",
    "    print('-'*33)\n",
    "print('='*33)\n",
    "print(f'R2 prom = {np.mean(R2s)}')\n",
    "print(f'MAE prom = {np.mean(MAEs)}')"
   ]
  },
  {
   "cell_type": "markdown",
   "metadata": {},
   "source": [
    "### Fem"
   ]
  },
  {
   "cell_type": "code",
   "execution_count": 31,
   "metadata": {},
   "outputs": [
    {
     "name": "stdout",
     "output_type": "stream",
     "text": [
      "masa_piel  R2 = 0.862 and MAE = 0.002\n",
      "---------------------------------\n",
      "masa_adiposa  R2 = -0.108 and MAE = 0.048\n",
      "---------------------------------\n",
      "masa_muscular  R2 = -0.219 and MAE = 0.037\n",
      "---------------------------------\n",
      "masa_residual  R2 = 0.56 and MAE = 0.007\n",
      "---------------------------------\n",
      "masa_osea  R2 = 0.533 and MAE = 0.007\n",
      "---------------------------------\n",
      "=================================\n",
      "R2 prom = 0.3258397865449627\n",
      "MAE prom = 0.020387516066205195\n"
     ]
    }
   ],
   "source": [
    "R2s = []\n",
    "MAEs = []\n",
    "for index,target in enumerate(y_columns):\n",
    "    model = Ridge(alpha=0.1)\n",
    "\n",
    "    model.fit(x_train_f,y_train_f[:,index])\n",
    "\n",
    "    y_pred = model.predict(x_test_f)\n",
    "    R2 = r2_score(y_test_f[:,index],y_pred)\n",
    "    MAE = mean_absolute_error(y_test_f[:,index],y_pred)\n",
    "    MSE = mean_squared_error(y_test_f[:,index],y_pred)\n",
    "    R2s.append(R2)\n",
    "    MAEs.append(MAE)\n",
    "\n",
    "    print(f'{target}  R2 = {round(R2,3)} and MAE = {round(MAE,3)}')\n",
    "    print('-'*33)\n",
    "print('='*33)\n",
    "print(f'R2 prom = {np.mean(R2s)}')\n",
    "print(f'MAE prom = {np.mean(MAEs)}')"
   ]
  },
  {
   "cell_type": "markdown",
   "metadata": {},
   "source": [
    "## Using Grid Search CV"
   ]
  },
  {
   "cell_type": "code",
   "execution_count": 32,
   "metadata": {},
   "outputs": [],
   "source": [
    "grid_param = {\n",
    "    'masa_piel': {'alpha': [x/100 for x in range(5,50,1)]},\n",
    "    'masa_adiposa': {'alpha': [x/10 for x in range(5,25,1)]},   \n",
    "    'masa_muscular': {'alpha': [x/10 for x in range(5,25,1)]},\n",
    "    'masa_residual': {'alpha': [x/10 for x in range(15,55,1)]},   \n",
    "    'masa_osea': {'alpha': [x/10 for x in range(15,55,1)]}\n",
    "}"
   ]
  },
  {
   "cell_type": "markdown",
   "metadata": {},
   "source": [
    "### masc"
   ]
  },
  {
   "cell_type": "code",
   "execution_count": 33,
   "metadata": {},
   "outputs": [
    {
     "name": "stdout",
     "output_type": "stream",
     "text": [
      "masa_piel\n",
      "Best R2: 0.9098806033694635\n",
      "{'alpha': 0.05}\n",
      "Test R2: 0.8948805658745063\n",
      "---------------------------------\n",
      "masa_adiposa\n",
      "Best R2: 0.4580334031000133\n",
      "{'alpha': 0.8}\n",
      "Test R2: 0.5132215216817715\n",
      "---------------------------------\n",
      "masa_muscular\n",
      "Best R2: 0.517013367071645\n",
      "{'alpha': 1.0}\n",
      "Test R2: 0.5038164241334924\n",
      "---------------------------------\n",
      "masa_residual\n",
      "Best R2: 0.4751053366295991\n",
      "{'alpha': 3.1}\n",
      "Test R2: 0.5050502091318354\n",
      "---------------------------------\n",
      "masa_osea\n",
      "Best R2: 0.3139935340465696\n",
      "{'alpha': 2.7}\n",
      "Test R2: 0.4451808906424365\n",
      "---------------------------------\n"
     ]
    }
   ],
   "source": [
    "alphas_m = dict()\n",
    "model = Ridge()\n",
    "for index,target in enumerate(y_columns):\n",
    "    gd_sr = GridSearchCV(estimator=model,\n",
    "                        param_grid=grid_param[target],\n",
    "                        scoring='r2',\n",
    "                        cv=4,\n",
    "                        n_jobs=-1)\n",
    "    gd_sr.fit(x_train_m,y_train_m[:,index])\n",
    "    best_parameters = gd_sr.best_params_\n",
    "    print(target)\n",
    "    print(f'Best R2: {gd_sr.best_score_}')\n",
    "    print(best_parameters)\n",
    "    y_pred = gd_sr.predict(x_test_m)\n",
    "    R2 = r2_score(y_test_m[:,index],y_pred)\n",
    "    print(f'Test R2: {R2}')\n",
    "    print('-'*33)\n",
    "    alphas_m[target]=best_parameters['alpha']\n"
   ]
  },
  {
   "cell_type": "code",
   "execution_count": 34,
   "metadata": {},
   "outputs": [
    {
     "data": {
      "text/plain": [
       "{'masa_piel': 0.05,\n",
       " 'masa_adiposa': 0.8,\n",
       " 'masa_muscular': 1.0,\n",
       " 'masa_residual': 3.1,\n",
       " 'masa_osea': 2.7}"
      ]
     },
     "execution_count": 34,
     "metadata": {},
     "output_type": "execute_result"
    }
   ],
   "source": [
    "alphas_m"
   ]
  },
  {
   "cell_type": "markdown",
   "metadata": {},
   "source": [
    "### fem"
   ]
  },
  {
   "cell_type": "code",
   "execution_count": 35,
   "metadata": {},
   "outputs": [],
   "source": [
    "grid_param = {\n",
    "    'masa_piel': {'alpha': [x/100 for x in range(5,50,1)]},\n",
    "    'masa_adiposa': {'alpha': [x/10 for x in range(15,55,1)]},   \n",
    "    'masa_muscular': {'alpha': [x/10 for x in range(15,55,1)]},\n",
    "    'masa_residual': {'alpha': [x/10 for x in range(15,55,1)]},   \n",
    "    'masa_osea': {'alpha': [x/10 for x in range(15,55,1)]}\n",
    "}"
   ]
  },
  {
   "cell_type": "code",
   "execution_count": 36,
   "metadata": {},
   "outputs": [
    {
     "name": "stdout",
     "output_type": "stream",
     "text": [
      "masa_piel\n",
      "Best R2: 0.9265405240220331\n",
      "{'alpha': 0.23}\n",
      "Test R2: 0.8626509484226439\n",
      "---------------------------------\n",
      "masa_adiposa\n",
      "Best R2: 0.43562610357840537\n",
      "{'alpha': 3.1}\n",
      "Test R2: -0.059330231722875215\n",
      "---------------------------------\n",
      "masa_muscular\n",
      "Best R2: 0.36226734440528735\n",
      "{'alpha': 2.2}\n",
      "Test R2: -0.1752416511575159\n",
      "---------------------------------\n",
      "masa_residual\n",
      "Best R2: 0.5479091344290267\n",
      "{'alpha': 1.8}\n",
      "Test R2: 0.5747295868288582\n",
      "---------------------------------\n",
      "masa_osea\n",
      "Best R2: 0.5203796625008321\n",
      "{'alpha': 1.5}\n",
      "Test R2: 0.5373299704990389\n",
      "---------------------------------\n"
     ]
    }
   ],
   "source": [
    "alphas_f = dict()\n",
    "model = Ridge()\n",
    "for index,target in enumerate(y_columns):\n",
    "    gd_sr = GridSearchCV(estimator=model,\n",
    "                        param_grid=grid_param[target],\n",
    "                        scoring='r2',\n",
    "                        cv=4,\n",
    "                        n_jobs=-1)\n",
    "    gd_sr.fit(x_train_f,y_train_f[:,index])\n",
    "    best_parameters = gd_sr.best_params_\n",
    "    print(target)\n",
    "    print(f'Best R2: {gd_sr.best_score_}')\n",
    "    print(best_parameters)\n",
    "    y_pred = gd_sr.predict(x_test_f)\n",
    "    R2 = r2_score(y_test_f[:,index],y_pred)\n",
    "    print(f'Test R2: {R2}')\n",
    "    print('-'*33)\n",
    "    alphas_f[target]=best_parameters['alpha']\n"
   ]
  },
  {
   "cell_type": "code",
   "execution_count": 37,
   "metadata": {},
   "outputs": [
    {
     "data": {
      "text/plain": [
       "{'masa_piel': 0.23,\n",
       " 'masa_adiposa': 3.1,\n",
       " 'masa_muscular': 2.2,\n",
       " 'masa_residual': 1.8,\n",
       " 'masa_osea': 1.5}"
      ]
     },
     "execution_count": 37,
     "metadata": {},
     "output_type": "execute_result"
    }
   ],
   "source": [
    "alphas_f"
   ]
  },
  {
   "cell_type": "markdown",
   "metadata": {},
   "source": [
    "## Using CV"
   ]
  },
  {
   "cell_type": "markdown",
   "metadata": {},
   "source": [
    "### masc"
   ]
  },
  {
   "cell_type": "code",
   "execution_count": 38,
   "metadata": {},
   "outputs": [
    {
     "name": "stdout",
     "output_type": "stream",
     "text": [
      "masa_piel\n",
      "[0.93403939 0.89708336 0.8900182  0.91838147]\n",
      "0.9098806033694635\n",
      "0.017422659105059326\n",
      "masa_adiposa\n",
      "[0.45981386 0.61229069 0.26669529 0.49333377]\n",
      "0.4580334031000133\n",
      "0.12415199180261931\n",
      "masa_muscular\n",
      "[0.55235351 0.6443454  0.21619195 0.65516261]\n",
      "0.517013367071645\n",
      "0.17821413459360488\n",
      "masa_residual\n",
      "[0.58593932 0.62337411 0.28543192 0.40567599]\n",
      "0.4751053366295991\n",
      "0.13698927209271616\n",
      "masa_osea\n",
      "[0.17958127 0.39521524 0.23330277 0.44787485]\n",
      "0.3139935340465696\n",
      "0.11079127782262133\n"
     ]
    }
   ],
   "source": [
    "for index,target in enumerate(y_columns):\n",
    "    model = Ridge(alpha=alphas_m[target])\n",
    "    scores = cross_val_score(model, x_train_m,y_train_m[:,index], cv=4)\n",
    "    print(target)\n",
    "    print(scores)\n",
    "    print(scores.mean())\n",
    "    print(scores.std())"
   ]
  },
  {
   "cell_type": "markdown",
   "metadata": {},
   "source": [
    "### fem"
   ]
  },
  {
   "cell_type": "code",
   "execution_count": 39,
   "metadata": {},
   "outputs": [
    {
     "name": "stdout",
     "output_type": "stream",
     "text": [
      "masa_piel\n",
      "[0.93666833 0.92551895 0.91176409 0.93221073]\n",
      "0.9265405240220331\n",
      "0.009408907611798576\n",
      "masa_adiposa\n",
      "[0.16040537 0.29025742 0.54031842 0.7515232 ]\n",
      "0.43562610357840537\n",
      "0.22783215637871765\n",
      "masa_muscular\n",
      "[0.11200368 0.19359222 0.5077702  0.63570327]\n",
      "0.36226734440528735\n",
      "0.21622990560893418\n",
      "masa_residual\n",
      "[0.65024331 0.68915966 0.22095763 0.63127594]\n",
      "0.5479091344290267\n",
      "0.18991531071589335\n",
      "masa_osea\n",
      "[0.40368765 0.61959727 0.661438   0.39679573]\n",
      "0.5203796625008321\n",
      "0.12106981714877234\n"
     ]
    }
   ],
   "source": [
    "for index,target in enumerate(y_columns):\n",
    "    model = Ridge(alphas_f[target])\n",
    "    scores = cross_val_score(model, x_train_f,y_train_f[:,index], cv=4)\n",
    "    print(target)\n",
    "    print(scores)\n",
    "    print(scores.mean())\n",
    "    print(scores.std())"
   ]
  },
  {
   "cell_type": "markdown",
   "metadata": {},
   "source": [
    "### Plotting test values vs test predictions"
   ]
  },
  {
   "cell_type": "markdown",
   "metadata": {},
   "source": [
    "#### masc"
   ]
  },
  {
   "cell_type": "code",
   "execution_count": 40,
   "metadata": {},
   "outputs": [
    {
     "data": {
      "image/png": "[encoded data removed]",
      "text/plain": [
       "<Figure size 432x288 with 1 Axes>"
      ]
     },
     "metadata": {
      "needs_background": "light"
     },
     "output_type": "display_data"
    },
    {
     "data": {
      "image/png": "[encoded data removed]",
      "text/plain": [
       "<Figure size 432x288 with 1 Axes>"
      ]
     },
     "metadata": {
      "needs_background": "light"
     },
     "output_type": "display_data"
    },
    {
     "data": {
      "image/png": "[encoded data removed]",
      "text/plain": [
       "<Figure size 432x288 with 1 Axes>"
      ]
     },
     "metadata": {
      "needs_background": "light"
     },
     "output_type": "display_data"
    },
    {
     "data": {
      "image/png": "[encoded data removed]",
      "text/plain": [
       "<Figure size 432x288 with 1 Axes>"
      ]
     },
     "metadata": {
      "needs_background": "light"
     },
     "output_type": "display_data"
    },
    {
     "data": {
      "image/png": "[encoded data removed]",
      "text/plain": [
       "<Figure size 432x288 with 1 Axes>"
      ]
     },
     "metadata": {
      "needs_background": "light"
     },
     "output_type": "display_data"
    }
   ],
   "source": [
    "for index,target in enumerate(y_columns):\n",
    "    model = Ridge(alpha=alphas_m[target])\n",
    "    model.fit(x_train_m,y_train_m[:,index])\n",
    "\n",
    "    y_pred = model.predict(x_test_m)\n",
    "\n",
    "    plt.figure()\n",
    "    #sns.scatterplot(x=y_test_m[:,index],y=y_pred, color='blue')\n",
    "    sns.scatterplot(x=x_test_m[:,1],y=y_pred, color='orange')\n",
    "    sns.scatterplot(x=x_test_m[:,1],y=y_test_m[:,index], color='green')\n",
    "    plt.title(target+'_masc')\n",
    "    \n",
    "    "
   ]
  },
  {
   "cell_type": "markdown",
   "metadata": {},
   "source": [
    "#### fem"
   ]
  },
  {
   "cell_type": "code",
   "execution_count": 41,
   "metadata": {},
   "outputs": [
    {
     "data": {
      "image/png": "[encoded data removed]",
      "text/plain": [
       "<Figure size 432x288 with 1 Axes>"
      ]
     },
     "metadata": {
      "needs_background": "light"
     },
     "output_type": "display_data"
    },
    {
     "data": {
      "image/png": "[encoded data removed]",
      "text/plain": [
       "<Figure size 432x288 with 1 Axes>"
      ]
     },
     "metadata": {
      "needs_background": "light"
     },
     "output_type": "display_data"
    },
    {
     "data": {
      "image/png": "[encoded data removed]",
      "text/plain": [
       "<Figure size 432x288 with 1 Axes>"
      ]
     },
     "metadata": {
      "needs_background": "light"
     },
     "output_type": "display_data"
    },
    {
     "data": {
      "image/png": "[encoded data removed]",
      "text/plain": [
       "<Figure size 432x288 with 1 Axes>"
      ]
     },
     "metadata": {
      "needs_background": "light"
     },
     "output_type": "display_data"
    },
    {
     "data": {
      "image/png": "[encoded data removed]",
      "text/plain": [
       "<Figure size 432x288 with 1 Axes>"
      ]
     },
     "metadata": {
      "needs_background": "light"
     },
     "output_type": "display_data"
    }
   ],
   "source": [
    "for index,target in enumerate(y_columns):\n",
    "    model = Ridge(alpha=alphas_f[target])\n",
    "    model.fit(x_train_f,y_train_f[:,index])\n",
    "\n",
    "    y_pred = model.predict(x_test_f)\n",
    "\n",
    "    plt.figure()\n",
    "    sns.scatterplot(x=y_test_f[:,index],y=y_pred, color='red')\n",
    "    plt.title(target+'_fem')"
   ]
  },
  {
   "cell_type": "code",
   "execution_count": null,
   "metadata": {},
   "outputs": [],
   "source": []
  }
 ],
 "metadata": {
  "interpreter": {
   "hash": "b77c1dbbb534ea8aacf2fc1d7aa822e0c19c32e78787c1d58af96714d27ca774"
  },
  "kernelspec": {
   "display_name": "Python 3.9.7 ('tf')",
   "language": "python",
   "name": "python3"
  },
  "language_info": {
   "codemirror_mode": {
    "name": "ipython",
    "version": 3
   },
   "file_extension": ".py",
   "mimetype": "text/x-python",
   "name": "python",
   "nbconvert_exporter": "python",
   "pygments_lexer": "ipython3",
   "version": "3.9.12"
  },
  "orig_nbformat": 4
 },
 "nbformat": 4,
 "nbformat_minor": 2
}
