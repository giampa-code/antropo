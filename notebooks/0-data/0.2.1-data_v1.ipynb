{
 "cells": [
  {
   "cell_type": "markdown",
   "metadata": {},
   "source": [
    "## Libraries"
   ]
  },
  {
   "cell_type": "code",
   "execution_count": 2,
   "metadata": {},
   "outputs": [],
   "source": [
    "import os\n",
    "import pandas as pd\n",
    "import matplotlib.pyplot as plt\n",
    "import seaborn as sns\n",
    "import numpy as np"
   ]
  },
  {
   "cell_type": "markdown",
   "metadata": {},
   "source": [
    "## Read data"
   ]
  },
  {
   "cell_type": "code",
   "execution_count": 7,
   "metadata": {},
   "outputs": [],
   "source": [
    "df = pd.read_csv('../../data/processed/processed_data.csv')"
   ]
  },
  {
   "cell_type": "code",
   "execution_count": 8,
   "metadata": {},
   "outputs": [],
   "source": [
    "## Final processing\n",
    "# Drop file columns\n",
    "df.drop(columns='file',inplace=True)\n",
    "# divide by sexo and drop sex column\n",
    "data_m = df[df.sexo==1].drop(columns=\"sexo\")\n",
    "data_f = df[df.sexo==2].drop(columns=\"sexo\")\n",
    "\n",
    "# Normalizado\n",
    "mean_m = data_m.mean()\n",
    "data_m.to_csv('../../data/interim/mean_m.csv', index=False)\n",
    "std_m = data_m.std()\n",
    "data_m.to_csv('../../data/interim/std_m.csv', index=False)\n",
    "\n",
    "mean_f = data_f.mean()\n",
    "data_m.to_csv('../../data/interim/mean_f.csv', index=False)\n",
    "std_f = data_f.std()\n",
    "data_m.to_csv('../../data/interim/std_f.csv', index=False)\n",
    "\n",
    "\n",
    "for columna in data_m.columns:\n",
    "    data_m[columna] = (data_m[columna] - data_m[columna].mean()) / data_m[columna].std()\n",
    "    data_f[columna] = (data_f[columna] - data_f[columna].mean()) / data_f[columna].std()\n",
    "data_m\n",
    "data_m.to_csv('../../data/processed/data_m_v1.csv', index=False)\n",
    "data_f.to_csv('../../data/processed/data_f_v1.csv', index=False)"
   ]
  },
  {
   "cell_type": "code",
   "execution_count": 10,
   "metadata": {},
   "outputs": [
    {
     "data": {
      "text/plain": [
       "edad                 28.474937\n",
       "peso                 81.460784\n",
       "talla               171.790850\n",
       "per_brazo_rel        31.332680\n",
       "per_brazo_ten        34.001961\n",
       "per_antebrazo        27.532680\n",
       "per_torax           102.229412\n",
       "per_cintura          86.009150\n",
       "per_cadera          100.352941\n",
       "per_muslo_max        58.966013\n",
       "per_muslo_medial     53.796078\n",
       "per_pantorrilla      36.907843\n",
       "masa_piel             4.008242\n",
       "masa_adiposa         23.045751\n",
       "masa_muscular        37.322690\n",
       "masa_residual         9.609309\n",
       "masa_osea             9.602205\n",
       "dtype: float64"
      ]
     },
     "execution_count": 10,
     "metadata": {},
     "output_type": "execute_result"
    }
   ],
   "source": [
    "mean_m"
   ]
  },
  {
   "cell_type": "code",
   "execution_count": null,
   "metadata": {},
   "outputs": [],
   "source": []
  }
 ],
 "metadata": {
  "interpreter": {
   "hash": "917d49a6f2f7d915df565dcc2b65134aa5b3e450bdf94b884f2af2fc61b0047e"
  },
  "kernelspec": {
   "display_name": "Python 3.9.12 ('ds')",
   "language": "python",
   "name": "python3"
  },
  "language_info": {
   "codemirror_mode": {
    "name": "ipython",
    "version": 3
   },
   "file_extension": ".py",
   "mimetype": "text/x-python",
   "name": "python",
   "nbconvert_exporter": "python",
   "pygments_lexer": "ipython3",
   "version": "3.9.12"
  },
  "orig_nbformat": 4
 },
 "nbformat": 4,
 "nbformat_minor": 2
}
